{
 "cells": [
  {
   "cell_type": "code",
   "execution_count": 1,
   "id": "b1cc7dfd",
   "metadata": {},
   "outputs": [
    {
     "name": "stdout",
     "output_type": "stream",
     "text": [
      "Requirement already satisfied: pytesseract in /Users/apple/opt/anaconda3/lib/python3.8/site-packages (0.3.8)\n",
      "Requirement already satisfied: Pillow in /Users/apple/opt/anaconda3/lib/python3.8/site-packages (from pytesseract) (8.2.0)\n"
     ]
    }
   ],
   "source": [
    "!pip install pytesseract"
   ]
  },
  {
   "cell_type": "code",
   "execution_count": 2,
   "id": "562ffce5",
   "metadata": {},
   "outputs": [],
   "source": [
    "# !pip install keyboard"
   ]
  },
  {
   "cell_type": "code",
   "execution_count": 3,
   "id": "4cb8881c",
   "metadata": {},
   "outputs": [
    {
     "name": "stdout",
     "output_type": "stream",
     "text": [
      "Requirement already satisfied: baidu-aip in /Users/apple/opt/anaconda3/lib/python3.8/site-packages (2.2.18.0)\r\n",
      "Requirement already satisfied: requests in /Users/apple/opt/anaconda3/lib/python3.8/site-packages (from baidu-aip) (2.25.1)\r\n",
      "Requirement already satisfied: chardet<5,>=3.0.2 in /Users/apple/opt/anaconda3/lib/python3.8/site-packages (from requests->baidu-aip) (4.0.0)\r\n",
      "Requirement already satisfied: idna<3,>=2.5 in /Users/apple/opt/anaconda3/lib/python3.8/site-packages (from requests->baidu-aip) (2.10)\r\n",
      "Requirement already satisfied: certifi>=2017.4.17 in /Users/apple/opt/anaconda3/lib/python3.8/site-packages (from requests->baidu-aip) (2020.12.5)\r\n",
      "Requirement already satisfied: urllib3<1.27,>=1.21.1 in /Users/apple/opt/anaconda3/lib/python3.8/site-packages (from requests->baidu-aip) (1.26.4)\r\n"
     ]
    }
   ],
   "source": [
    "!pip install baidu-aip"
   ]
  },
  {
   "cell_type": "code",
   "execution_count": 4,
   "id": "b4943f06",
   "metadata": {},
   "outputs": [
    {
     "name": "stdout",
     "output_type": "stream",
     "text": [
      "冲刺5\n",
      "科一科二\n",
      "1.《旅游法》规定，旅游者的要求履约权指旅游者有权要求旅游经营者按照约定提供产品和\n",
      "服务。（）\n",
      "正确答案对\n",
      "题目解析\n",
      "宝典P21，《旅游法》第9条规定，旅游者有权要求旅游经营者按照约定提供产品和服务。\n",
      "故本题正确。\n",
      "2.自然人的民事权利能力是指18周岁以上的主体依法享有民事权利和承担民事义务的资格。\n",
      "（）\n",
      "正确答案错\n",
      "题目解析\n",
      "宝典P36，《民法典》第13条规定，自然人从出生时起到死亡时止，具有民事权利能力，依\n",
      "法享有民事权利，承担民事义务。故本题说法错误。\n",
      "3.《民法典》规定，当事人订立合同，有书面和口头两种形式。（）\n",
      "正确箸案错\n",
      "题目解析\n",
      "宝典P47，《民法典》第469条规定，当事人订立合同，可以采用书面形式、口头形式或者\n",
      "其他形式。题干漏掉了“其他形式”，故本题说法错误。\n",
      "4.《民法典》规定，当事人一方不履行合同义务或者履行合同义务不符合约定的，应当承担\n",
      "继续履行、采取补救措施或者补偿损失等违约责任。（）\n",
      "正确答案错\n",
      "题目解析\n",
      "宝典P55，本题说法错误。《民法典》第577条规定，当事人一方不履行合同义务或者履行\n",
      "合同义务不符合约定的，应当承担继续履行、采取补救措施或者赔偿损失等违约责任。\n",
      "5.根据《民法典》的规定，无民事行为能力人、限制民事行为能力人造成他人损害，监护人\n",
      "尽到监护责任的，可以减轻或免除其侵权责任。（）\n",
      "正确答案错\n",
      "题目解析\n",
      "宝典P60，《民法典》第1188条规定，无民事行为能力人、限制民事行为能力人造成他人损\n",
      "害的，由监护人承担侵权责任。监护人尽到监护职责的，可以减轻其侵权责任。此种情况下，\n",
      "仅可以“减轻”而不能免除，故本题说法错误。\n",
      "6.某旅行社未征得旅游者同意指定了一处购物店，安排导游员小张将旅游者带到了此购物店\n",
      "购物。根据《旅游法》，由旅游主管部门对小张没收违法所得，处1000元以上3万元以下罚\n",
      "款，并暂扣或者吊销导游证。（）\n",
      "正确答案错\n",
      "题目解析\n",
      "宝典P77，此种情形属于指定具体购物场所，且未经旅游者同意。对直接负责的主管人员和\n",
      "迅捷PDF转换器\n",
      "finished\n"
     ]
    }
   ],
   "source": [
    "# 参考 https://cloud.tencent.com/developer/article/1685804\n",
    "from PIL import Image\n",
    "from PIL import ImageGrab\n",
    "# import keyboard\n",
    "import pytesseract\n",
    "# import time\n",
    "from aip import AipOcr\n",
    "\n",
    "# 1.从屏幕上截取要识别的内容，由于我的截图存储快捷方式为F1和Ctrl+C，\n",
    "# 所以参数如下，若采用其他截图方式，按照快捷方式修改参数即可\n",
    "# keyboard.wait(hotkey=\"f1\")\n",
    "# keyboard.wait(hotkey=\"ctrl+c\")\n",
    "# time.sleep(0.1)\n",
    "\n",
    "# 2.将从屏幕获取到的截图存储到与py文件的同级目录下\n",
    "# image = ImageGrab.grabclipboard()\n",
    "# image.save(\"pic.png\")\n",
    "# 此处填写你的APP参数信息\n",
    "APP_ID = '25105055'\n",
    "API_KEY = 'd1quIGLjHdqhN3L6XAMm9EF5'\n",
    "SECRET_KEY = 'VxRGm4BBb6mSxcCoGq4R4fk7wkpeC33t'\n",
    "\n",
    "client = AipOcr(APP_ID, API_KEY, SECRET_KEY)\n",
    "\n",
    "# 读取图片\n",
    "with open(\"data/0_01.jpg\", 'rb') as f:\n",
    "    image = f.read()\n",
    "    # 调用百度API通用文字识别，提取图片中的内容\n",
    "    text = client.basicAccurate(image)\n",
    "    result = text[\"words_result\"]\n",
    "    for i in result:\n",
    "        print(i[\"words\"])\n",
    "print('finished')"
   ]
  },
  {
   "cell_type": "code",
   "execution_count": null,
   "id": "9bbe4279",
   "metadata": {},
   "outputs": [],
   "source": []
  }
 ],
 "metadata": {
  "kernelspec": {
   "display_name": "Python 3",
   "language": "python",
   "name": "python3"
  },
  "language_info": {
   "codemirror_mode": {
    "name": "ipython",
    "version": 3
   },
   "file_extension": ".py",
   "mimetype": "text/x-python",
   "name": "python",
   "nbconvert_exporter": "python",
   "pygments_lexer": "ipython3",
   "version": "3.8.8"
  }
 },
 "nbformat": 4,
 "nbformat_minor": 5
}
