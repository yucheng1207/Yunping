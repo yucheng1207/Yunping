{
 "cells": [
  {
   "cell_type": "code",
   "execution_count": 1,
   "id": "b1cc7dfd",
   "metadata": {},
   "outputs": [
    {
     "name": "stdout",
     "output_type": "stream",
     "text": [
      "Requirement already satisfied: pytesseract in /Users/apple/opt/anaconda3/lib/python3.8/site-packages (0.3.8)\r\n",
      "Requirement already satisfied: Pillow in /Users/apple/opt/anaconda3/lib/python3.8/site-packages (from pytesseract) (8.2.0)\r\n"
     ]
    }
   ],
   "source": [
    "!pip install pytesseract"
   ]
  },
  {
   "cell_type": "code",
   "execution_count": 2,
   "id": "562ffce5",
   "metadata": {},
   "outputs": [],
   "source": [
    "# !pip install keyboard"
   ]
  },
  {
   "cell_type": "code",
   "execution_count": 3,
   "id": "4cb8881c",
   "metadata": {},
   "outputs": [
    {
     "name": "stdout",
     "output_type": "stream",
     "text": [
      "Requirement already satisfied: baidu-aip in /Users/apple/opt/anaconda3/lib/python3.8/site-packages (2.2.18.0)\r\n",
      "Requirement already satisfied: requests in /Users/apple/opt/anaconda3/lib/python3.8/site-packages (from baidu-aip) (2.25.1)\r\n",
      "Requirement already satisfied: idna<3,>=2.5 in /Users/apple/opt/anaconda3/lib/python3.8/site-packages (from requests->baidu-aip) (2.10)\r\n",
      "Requirement already satisfied: urllib3<1.27,>=1.21.1 in /Users/apple/opt/anaconda3/lib/python3.8/site-packages (from requests->baidu-aip) (1.26.4)\r\n",
      "Requirement already satisfied: certifi>=2017.4.17 in /Users/apple/opt/anaconda3/lib/python3.8/site-packages (from requests->baidu-aip) (2020.12.5)\r\n",
      "Requirement already satisfied: chardet<5,>=3.0.2 in /Users/apple/opt/anaconda3/lib/python3.8/site-packages (from requests->baidu-aip) (4.0.0)\r\n"
     ]
    }
   ],
   "source": [
    "!pip install baidu-aip"
   ]
  },
  {
   "cell_type": "code",
   "execution_count": 4,
   "id": "df77d44a",
   "metadata": {},
   "outputs": [],
   "source": [
    "import time"
   ]
  },
  {
   "cell_type": "code",
   "execution_count": 5,
   "id": "b4943f06",
   "metadata": {},
   "outputs": [],
   "source": [
    "# 参考 https://cloud.tencent.com/developer/article/1685804\n",
    "from PIL import Image\n",
    "from PIL import ImageGrab\n",
    "# import keyboard\n",
    "import pytesseract\n",
    "# import time\n",
    "from aip import AipOcr\n",
    "\n",
    "# 1.从屏幕上截取要识别的内容，由于我的截图存储快捷方式为F1和Ctrl+C，\n",
    "# 所以参数如下，若采用其他截图方式，按照快捷方式修改参数即可\n",
    "# keyboard.wait(hotkey=\"f1\")\n",
    "# keyboard.wait(hotkey=\"ctrl+c\")\n",
    "# time.sleep(0.1)\n",
    "\n",
    "# 2.将从屏幕获取到的截图存储到与py文件的同级目录下\n",
    "# image = ImageGrab.grabclipboard()\n",
    "# image.save(\"pic.png\")\n",
    "# 此处填写你的APP参数信息\n",
    "APP_ID = '25105055'\n",
    "API_KEY = 'd1quIGLjHdqhN3L6XAMm9EF5'\n",
    "SECRET_KEY = 'VxRGm4BBb6mSxcCoGq4R4fk7wkpeC33t'\n",
    "\n",
    "client = AipOcr(APP_ID, API_KEY, SECRET_KEY)\n",
    "\n",
    "# # 读取图片\n",
    "# with open(\"data/0_01.jpg\", 'rb') as f:\n",
    "#     image = f.read()\n",
    "#     # 调用百度API通用文字识别，提取图片中的内容\n",
    "#     text = client.basicAccurate(image)\n",
    "#     result = text[\"words_result\"]\n",
    "#     for i in result:\n",
    "#         print(i[\"words\"])\n",
    "# print('finished')"
   ]
  },
  {
   "cell_type": "code",
   "execution_count": 6,
   "id": "3d349272",
   "metadata": {},
   "outputs": [],
   "source": [
    "# 图片文字识别\n",
    "def characterRecognition(url):\n",
    "    # 太快会报错 Open api qps request limit reached\n",
    "    # QPS（query per second）指每秒向服务发送的请求数量峰值，相当于每个API接口每秒可以允许请求的并发上限量\n",
    "    time.sleep(2) \n",
    "    print('开始识别', url)\n",
    "    with open(url, 'rb') as f:\n",
    "        image = f.read()\n",
    "        # 调用百度API通用文字识别，提取图片中的内容\n",
    "        text = client.basicAccurate(image)\n",
    "        if (text['error_msg']):\n",
    "            # 超出调用限制时会报错：Open api daily request limit reached\n",
    "            print('error', text)\n",
    "        words_result = text[\"words_result\"]\n",
    "        result = []\n",
    "        filterData = []\n",
    "        for i in words_result:\n",
    "            if i[\"words\"] != '迅捷PDF转换器':\n",
    "                result.append(i[\"words\"])\n",
    "                print(i[\"words\"])\n",
    "            else:\n",
    "                if len(result[len(result) - 1]) <= 2:\n",
    "                    f = result.pop() # 去掉’迅捷PDF转换器‘字段和’迅捷PDF转换器‘前一个字段（页码）\n",
    "                    filterData.append(f)\n",
    "        return {'result': result, 'filter': filterData }"
   ]
  },
  {
   "cell_type": "code",
   "execution_count": 7,
   "id": "9bbe4279",
   "metadata": {},
   "outputs": [],
   "source": [
    "# 获取所有需要文字识别的文件路径，文件路径为 imgaeBaseUrl + namePrefix + [startIndex, endIndex] + '.jpg'\n",
    "# eg: /Users/apple/zyc/zhl/旅游管理题目/6/图片-迅捷/0_01.jpg\n",
    "def identifyAllPictures(imgaeBaseUrl, namePrefix, startIndex, endIndex):\n",
    "    urls = []\n",
    "    for index in range(startIndex, endIndex+1):\n",
    "        url = imgaeBaseUrl + namePrefix\n",
    "        if index < 10:\n",
    "            index = '0' + str(index)\n",
    "        url = url + str(index) + '.jpg'\n",
    "        urls.append(url)\n",
    "    return urls"
   ]
  },
  {
   "cell_type": "code",
   "execution_count": 8,
   "id": "086b2fd6",
   "metadata": {},
   "outputs": [
    {
     "name": "stdout",
     "output_type": "stream",
     "text": [
      "['/Users/apple/zyc/zhl/旅游管理题目/8/图片-迅捷/0_23.jpg', '/Users/apple/zyc/zhl/旅游管理题目/8/图片-迅捷/0_24.jpg', '/Users/apple/zyc/zhl/旅游管理题目/8/图片-迅捷/0_25.jpg', '/Users/apple/zyc/zhl/旅游管理题目/8/图片-迅捷/0_26.jpg', '/Users/apple/zyc/zhl/旅游管理题目/8/图片-迅捷/0_27.jpg', '/Users/apple/zyc/zhl/旅游管理题目/8/图片-迅捷/0_28.jpg', '/Users/apple/zyc/zhl/旅游管理题目/8/图片-迅捷/0_29.jpg', '/Users/apple/zyc/zhl/旅游管理题目/8/图片-迅捷/0_30.jpg', '/Users/apple/zyc/zhl/旅游管理题目/8/图片-迅捷/0_31.jpg', '/Users/apple/zyc/zhl/旅游管理题目/8/图片-迅捷/0_32.jpg', '/Users/apple/zyc/zhl/旅游管理题目/8/图片-迅捷/0_33.jpg', '/Users/apple/zyc/zhl/旅游管理题目/8/图片-迅捷/0_34.jpg', '/Users/apple/zyc/zhl/旅游管理题目/8/图片-迅捷/0_35.jpg', '/Users/apple/zyc/zhl/旅游管理题目/8/图片-迅捷/0_36.jpg', '/Users/apple/zyc/zhl/旅游管理题目/8/图片-迅捷/0_37.jpg', '/Users/apple/zyc/zhl/旅游管理题目/8/图片-迅捷/0_38.jpg', '/Users/apple/zyc/zhl/旅游管理题目/8/图片-迅捷/0_39.jpg', '/Users/apple/zyc/zhl/旅游管理题目/8/图片-迅捷/0_40.jpg', '/Users/apple/zyc/zhl/旅游管理题目/8/图片-迅捷/0_41.jpg', '/Users/apple/zyc/zhl/旅游管理题目/8/图片-迅捷/0_42.jpg', '/Users/apple/zyc/zhl/旅游管理题目/8/图片-迅捷/0_43.jpg', '/Users/apple/zyc/zhl/旅游管理题目/8/图片-迅捷/0_44.jpg', '/Users/apple/zyc/zhl/旅游管理题目/8/图片-迅捷/0_45.jpg', '/Users/apple/zyc/zhl/旅游管理题目/8/图片-迅捷/0_46.jpg', '/Users/apple/zyc/zhl/旅游管理题目/8/图片-迅捷/0_47.jpg', '/Users/apple/zyc/zhl/旅游管理题目/8/图片-迅捷/0_48.jpg', '/Users/apple/zyc/zhl/旅游管理题目/8/图片-迅捷/0_49.jpg', '/Users/apple/zyc/zhl/旅游管理题目/8/图片-迅捷/0_50.jpg', '/Users/apple/zyc/zhl/旅游管理题目/8/图片-迅捷/0_51.jpg', '/Users/apple/zyc/zhl/旅游管理题目/8/图片-迅捷/0_52.jpg', '/Users/apple/zyc/zhl/旅游管理题目/8/图片-迅捷/0_53.jpg', '/Users/apple/zyc/zhl/旅游管理题目/8/图片-迅捷/0_54.jpg', '/Users/apple/zyc/zhl/旅游管理题目/8/图片-迅捷/0_55.jpg', '/Users/apple/zyc/zhl/旅游管理题目/8/图片-迅捷/0_56.jpg', '/Users/apple/zyc/zhl/旅游管理题目/8/图片-迅捷/0_57.jpg', '/Users/apple/zyc/zhl/旅游管理题目/8/图片-迅捷/0_58.jpg', '/Users/apple/zyc/zhl/旅游管理题目/8/图片-迅捷/0_59.jpg', '/Users/apple/zyc/zhl/旅游管理题目/8/图片-迅捷/0_60.jpg', '/Users/apple/zyc/zhl/旅游管理题目/8/图片-迅捷/0_61.jpg', '/Users/apple/zyc/zhl/旅游管理题目/8/图片-迅捷/0_62.jpg']\n",
      "开始识别 /Users/apple/zyc/zhl/旅游管理题目/8/图片-迅捷/0_23.jpg\n",
      "error {'error_code': 17, 'error_msg': 'Open api daily request limit reached'}\n"
     ]
    },
    {
     "ename": "KeyError",
     "evalue": "'words_result'",
     "output_type": "error",
     "traceback": [
      "\u001b[0;31m---------------------------------------------------------------------------\u001b[0m",
      "\u001b[0;31mKeyError\u001b[0m                                  Traceback (most recent call last)",
      "\u001b[0;32m<ipython-input-8-bc2073ba98f3>\u001b[0m in \u001b[0;36m<module>\u001b[0;34m\u001b[0m\n\u001b[1;32m      5\u001b[0m \u001b[0mfilterData\u001b[0m \u001b[0;34m=\u001b[0m \u001b[0;34m[\u001b[0m\u001b[0;34m]\u001b[0m\u001b[0;34m\u001b[0m\u001b[0;34m\u001b[0m\u001b[0m\n\u001b[1;32m      6\u001b[0m \u001b[0;32mfor\u001b[0m \u001b[0murl\u001b[0m \u001b[0;32min\u001b[0m \u001b[0murls\u001b[0m\u001b[0;34m:\u001b[0m\u001b[0;34m\u001b[0m\u001b[0;34m\u001b[0m\u001b[0m\n\u001b[0;32m----> 7\u001b[0;31m     \u001b[0mdata\u001b[0m \u001b[0;34m=\u001b[0m \u001b[0mcharacterRecognition\u001b[0m\u001b[0;34m(\u001b[0m\u001b[0murl\u001b[0m\u001b[0;34m)\u001b[0m\u001b[0;34m\u001b[0m\u001b[0;34m\u001b[0m\u001b[0m\n\u001b[0m\u001b[1;32m      8\u001b[0m     \u001b[0mresult\u001b[0m \u001b[0;34m=\u001b[0m \u001b[0mresult\u001b[0m \u001b[0;34m+\u001b[0m \u001b[0mdata\u001b[0m\u001b[0;34m[\u001b[0m\u001b[0;34m'result'\u001b[0m\u001b[0;34m]\u001b[0m\u001b[0;34m\u001b[0m\u001b[0;34m\u001b[0m\u001b[0m\n\u001b[1;32m      9\u001b[0m     \u001b[0mfilterData\u001b[0m \u001b[0;34m=\u001b[0m \u001b[0mfilterData\u001b[0m \u001b[0;34m+\u001b[0m \u001b[0mdata\u001b[0m\u001b[0;34m[\u001b[0m\u001b[0;34m'filter'\u001b[0m\u001b[0;34m]\u001b[0m\u001b[0;34m\u001b[0m\u001b[0;34m\u001b[0m\u001b[0m\n",
      "\u001b[0;32m<ipython-input-6-08221d7d59dd>\u001b[0m in \u001b[0;36mcharacterRecognition\u001b[0;34m(url)\u001b[0m\n\u001b[1;32m     12\u001b[0m             \u001b[0;31m# 超出调用限制时会报错：Open api daily request limit reached\u001b[0m\u001b[0;34m\u001b[0m\u001b[0;34m\u001b[0m\u001b[0;34m\u001b[0m\u001b[0m\n\u001b[1;32m     13\u001b[0m             \u001b[0mprint\u001b[0m\u001b[0;34m(\u001b[0m\u001b[0;34m'error'\u001b[0m\u001b[0;34m,\u001b[0m \u001b[0mtext\u001b[0m\u001b[0;34m)\u001b[0m\u001b[0;34m\u001b[0m\u001b[0;34m\u001b[0m\u001b[0m\n\u001b[0;32m---> 14\u001b[0;31m         \u001b[0mwords_result\u001b[0m \u001b[0;34m=\u001b[0m \u001b[0mtext\u001b[0m\u001b[0;34m[\u001b[0m\u001b[0;34m\"words_result\"\u001b[0m\u001b[0;34m]\u001b[0m\u001b[0;34m\u001b[0m\u001b[0;34m\u001b[0m\u001b[0m\n\u001b[0m\u001b[1;32m     15\u001b[0m         \u001b[0mresult\u001b[0m \u001b[0;34m=\u001b[0m \u001b[0;34m[\u001b[0m\u001b[0;34m]\u001b[0m\u001b[0;34m\u001b[0m\u001b[0;34m\u001b[0m\u001b[0m\n\u001b[1;32m     16\u001b[0m         \u001b[0mfilterData\u001b[0m \u001b[0;34m=\u001b[0m \u001b[0;34m[\u001b[0m\u001b[0;34m]\u001b[0m\u001b[0;34m\u001b[0m\u001b[0;34m\u001b[0m\u001b[0m\n",
      "\u001b[0;31mKeyError\u001b[0m: 'words_result'"
     ]
    }
   ],
   "source": [
    "urls = identifyAllPictures('/Users/apple/zyc/zhl/旅游管理题目/8/图片-迅捷/', '0_', 23, 62)\n",
    "print(urls)\n",
    "\n",
    "result = []\n",
    "filterData = []\n",
    "for url in urls:\n",
    "    data = characterRecognition(url)\n",
    "    result = result + data['result']\n",
    "    filterData = filterData + data['filter']\n",
    "\n",
    "print('<======结果======>')\n",
    "print('过滤数据：', filterData)\n",
    "\n",
    "for item in result:\n",
    "    print(item)\n",
    "    "
   ]
  }
 ],
 "metadata": {
  "kernelspec": {
   "display_name": "Python 3",
   "language": "python",
   "name": "python3"
  },
  "language_info": {
   "codemirror_mode": {
    "name": "ipython",
    "version": 3
   },
   "file_extension": ".py",
   "mimetype": "text/x-python",
   "name": "python",
   "nbconvert_exporter": "python",
   "pygments_lexer": "ipython3",
   "version": "3.8.8"
  }
 },
 "nbformat": 4,
 "nbformat_minor": 5
}
