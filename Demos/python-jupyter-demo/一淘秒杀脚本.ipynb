{
 "cells": [
  {
   "cell_type": "code",
   "execution_count": 1,
   "id": "96c044dd",
   "metadata": {},
   "outputs": [
    {
     "name": "stdout",
     "output_type": "stream",
     "text": [
      "Requirement already satisfied: selenium in /Users/apple/opt/anaconda3/lib/python3.8/site-packages (4.1.0)\n",
      "Requirement already satisfied: trio~=0.17 in /Users/apple/opt/anaconda3/lib/python3.8/site-packages (from selenium) (0.19.0)\n",
      "Requirement already satisfied: urllib3[secure]~=1.26 in /Users/apple/opt/anaconda3/lib/python3.8/site-packages (from selenium) (1.26.4)\n",
      "Requirement already satisfied: trio-websocket~=0.9 in /Users/apple/opt/anaconda3/lib/python3.8/site-packages (from selenium) (0.9.2)\n",
      "Requirement already satisfied: async-generator>=1.9 in /Users/apple/opt/anaconda3/lib/python3.8/site-packages (from trio~=0.17->selenium) (1.10)\n",
      "Requirement already satisfied: outcome in /Users/apple/opt/anaconda3/lib/python3.8/site-packages (from trio~=0.17->selenium) (1.1.0)\n",
      "Requirement already satisfied: idna in /Users/apple/opt/anaconda3/lib/python3.8/site-packages (from trio~=0.17->selenium) (2.10)\n",
      "Requirement already satisfied: sortedcontainers in /Users/apple/opt/anaconda3/lib/python3.8/site-packages (from trio~=0.17->selenium) (2.3.0)\n",
      "Requirement already satisfied: sniffio in /Users/apple/opt/anaconda3/lib/python3.8/site-packages (from trio~=0.17->selenium) (1.2.0)\n",
      "Requirement already satisfied: attrs>=19.2.0 in /Users/apple/opt/anaconda3/lib/python3.8/site-packages (from trio~=0.17->selenium) (20.3.0)\n",
      "Requirement already satisfied: wsproto>=0.14 in /Users/apple/opt/anaconda3/lib/python3.8/site-packages (from trio-websocket~=0.9->selenium) (1.0.0)\n",
      "Requirement already satisfied: pyOpenSSL>=0.14 in /Users/apple/opt/anaconda3/lib/python3.8/site-packages (from urllib3[secure]~=1.26->selenium) (20.0.1)\n",
      "Requirement already satisfied: certifi in /Users/apple/opt/anaconda3/lib/python3.8/site-packages (from urllib3[secure]~=1.26->selenium) (2020.12.5)\n",
      "Requirement already satisfied: cryptography>=1.3.4 in /Users/apple/opt/anaconda3/lib/python3.8/site-packages (from urllib3[secure]~=1.26->selenium) (3.4.7)\n",
      "Requirement already satisfied: cffi>=1.12 in /Users/apple/opt/anaconda3/lib/python3.8/site-packages (from cryptography>=1.3.4->urllib3[secure]~=1.26->selenium) (1.14.5)\n",
      "Requirement already satisfied: pycparser in /Users/apple/opt/anaconda3/lib/python3.8/site-packages (from cffi>=1.12->cryptography>=1.3.4->urllib3[secure]~=1.26->selenium) (2.20)\n",
      "Requirement already satisfied: six>=1.5.2 in /Users/apple/opt/anaconda3/lib/python3.8/site-packages (from pyOpenSSL>=0.14->urllib3[secure]~=1.26->selenium) (1.15.0)\n",
      "Requirement already satisfied: h11<1,>=0.9.0 in /Users/apple/opt/anaconda3/lib/python3.8/site-packages (from wsproto>=0.14->trio-websocket~=0.9->selenium) (0.13.0)\n"
     ]
    }
   ],
   "source": [
    "!pip install selenium"
   ]
  },
  {
   "cell_type": "code",
   "execution_count": 2,
   "id": "9e844510",
   "metadata": {},
   "outputs": [],
   "source": [
    "from selenium import webdriver\n",
    "from selenium.webdriver.support.ui import WebDriverWait\n",
    "from selenium.webdriver.common.by import By\n",
    "from selenium.webdriver.support import expected_conditions as EC"
   ]
  },
  {
   "cell_type": "code",
   "execution_count": 3,
   "id": "68182479",
   "metadata": {},
   "outputs": [
    {
     "data": {
      "text/plain": [
       "'2022-02-08 16:27:12.868760'"
      ]
     },
     "execution_count": 3,
     "metadata": {},
     "output_type": "execute_result"
    }
   ],
   "source": [
    "import time\n",
    "import datetime\n",
    "datetime.datetime.now().strftime('%Y-%m-%d %H:%M:%S.%f')"
   ]
  },
  {
   "cell_type": "code",
   "execution_count": 4,
   "id": "9d0a79f1",
   "metadata": {},
   "outputs": [],
   "source": [
    "def login(url):\n",
    "    # 打开淘宝首页，通过扫码登录\n",
    "    browser.get(url)\n",
    "    time.sleep(3)\n",
    "    # find_element_by_link_text(\"亲，请登录\"):\n",
    "    if browser.find_element_by_link_text(\"亲，请登录\"):\n",
    "        browser.find_element_by_link_text(\"亲，请登录\").click()\n",
    "        print(\"请在10秒内完成扫码\")\n",
    "        time.sleep(10)\n",
    "        print('登录成功')"
   ]
  },
  {
   "cell_type": "code",
   "execution_count": 5,
   "id": "81c10780",
   "metadata": {},
   "outputs": [],
   "source": [
    "def buy(times):\n",
    "    while True:\n",
    "        now = datetime.datetime.now().strftime('%Y-%m-%d %H:%M:%S.%f')\n",
    "        # 对比时间，时间到的话就点击结算\n",
    "        if now > times:\n",
    "            # 点击结算按钮\n",
    "            while True:\n",
    "                try:\n",
    "                    if browser.find_element_by_link_text(\"立即购买\"):\n",
    "                        browser.find_element_by_link_text(\"立即购买\").click()\n",
    "                        print(\"结算成功，准备提交订单\")\n",
    "                        break\n",
    "                except:\n",
    "                    pass\n",
    "            # 点击提交订单按钮\n",
    "            while True:\n",
    "                try:\n",
    "                    if browser.find_element_by_link_text('提交订单'):\n",
    "                        browser.find_element_by_link_text('提交订单').click()\n",
    "                        print(\"抢购成功，请尽快付款\")\n",
    "                        break\n",
    "                except:\n",
    "                    print(\"再次尝试提交订单\")\n",
    "            time.sleep(0.01)"
   ]
  },
  {
   "cell_type": "code",
   "execution_count": null,
   "id": "61659e87",
   "metadata": {},
   "outputs": [
    {
     "name": "stdout",
     "output_type": "stream",
     "text": [
      "请提前进入到购买页面并选定好产品规格\n",
      "当前时间： 2022-02-08 16:27:12.900911\n",
      "请输入抢购时间，格式如(2020-01-01 11:20:00.000000):2022-02-08 16:29:12.900911\n",
      "请输入商品购买页链接：https://detail.tmall.com/item.htm?id=650179791003&spm=a1z09.2.0.0.39702e8d5VB67M&_u=810j4hpp80f7\n",
      "请登录并进入到需要购买的商品页面并选择好商品规格，选择完后将在设置好的时间点抢购 2022-02-08 16:29:12.900911\n"
     ]
    },
    {
     "name": "stderr",
     "output_type": "stream",
     "text": [
      "<ipython-input-5-b1de77cbbb5f>:9: DeprecationWarning: find_element_by_* commands are deprecated. Please use find_element() instead\n",
      "  if browser.find_element_by_link_text(\"立即购买\"):\n",
      "<ipython-input-5-b1de77cbbb5f>:10: DeprecationWarning: find_element_by_* commands are deprecated. Please use find_element() instead\n",
      "  browser.find_element_by_link_text(\"立即购买\").click()\n",
      "<ipython-input-5-b1de77cbbb5f>:18: DeprecationWarning: find_element_by_* commands are deprecated. Please use find_element() instead\n",
      "  if browser.find_element_by_link_text('提交订单'):\n"
     ]
    },
    {
     "name": "stdout",
     "output_type": "stream",
     "text": [
      "结算成功，准备提交订单\n",
      "再次尝试提交订单\n",
      "再次尝试提交订单\n",
      "再次尝试提交订单\n",
      "再次尝试提交订单\n",
      "再次尝试提交订单\n"
     ]
    },
    {
     "name": "stderr",
     "output_type": "stream",
     "text": [
      "<ipython-input-5-b1de77cbbb5f>:19: DeprecationWarning: find_element_by_* commands are deprecated. Please use find_element() instead\n",
      "  browser.find_element_by_link_text('提交订单').click()\n"
     ]
    },
    {
     "name": "stdout",
     "output_type": "stream",
     "text": [
      "抢购成功，请尽快付款\n"
     ]
    }
   ],
   "source": [
    "print(\"请提前进入到购买页面并选定好产品规格\")\n",
    "currentTime = datetime.datetime.now().strftime('%Y-%m-%d %H:%M:%S.%f')\n",
    "print(\"当前时间：\", currentTime)\n",
    "times = input(\"请输入抢购时间，格式如(2020-01-01 11:20:00.000000):\")\n",
    "# 请输入要购买的商品链接，如果要使用一淘请输入从一淘网页进入的商品链接\n",
    "productLink = input(\"请输入商品购买页链接：\")\n",
    "# 打开Chrome浏览器\n",
    "browser = webdriver.Chrome()\n",
    "browser.get(productLink)\n",
    "# 登录一淘\n",
    "# login(\"https://www.etao.com\")\n",
    "# 登录淘宝\n",
    "# login(\"https://www.taobao.com\")\n",
    "print(\"请登录并进入到需要购买的商品页面并选择好商品规格，选择完后将在设置好的时间点抢购\", times)\n",
    "# 购买\n",
    "buy(times)"
   ]
  }
 ],
 "metadata": {
  "kernelspec": {
   "display_name": "Python 3",
   "language": "python",
   "name": "python3"
  },
  "language_info": {
   "codemirror_mode": {
    "name": "ipython",
    "version": 3
   },
   "file_extension": ".py",
   "mimetype": "text/x-python",
   "name": "python",
   "nbconvert_exporter": "python",
   "pygments_lexer": "ipython3",
   "version": "3.8.8"
  }
 },
 "nbformat": 4,
 "nbformat_minor": 5
}
