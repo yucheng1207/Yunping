{
 "cells": [
  {
   "cell_type": "code",
   "execution_count": 1,
   "id": "3c1605fb",
   "metadata": {},
   "outputs": [
    {
     "name": "stdout",
     "output_type": "stream",
     "text": [
      "hello world\n"
     ]
    }
   ],
   "source": [
    "print('hello world')"
   ]
  },
  {
   "cell_type": "code",
   "execution_count": 2,
   "id": "4fa5e30b",
   "metadata": {},
   "outputs": [
    {
     "data": {
      "text/plain": [
       "6"
      ]
     },
     "execution_count": 2,
     "metadata": {},
     "output_type": "execute_result"
    }
   ],
   "source": [
    "a = ['234234', '234234']\n",
    "len(a)\n",
    "b = len(a[len(a) - 1])\n",
    "b"
   ]
  },
  {
   "cell_type": "code",
   "execution_count": 3,
   "id": "689fbd1f",
   "metadata": {},
   "outputs": [
    {
     "name": "stdout",
     "output_type": "stream",
     "text": [
      "ttt 567567\n"
     ]
    }
   ],
   "source": [
    "c = { 'data': 'ttt', 'result': 567567}\n",
    "print(c['data'], c['result'])"
   ]
  },
  {
   "cell_type": "code",
   "execution_count": 4,
   "id": "9711acc4",
   "metadata": {},
   "outputs": [
    {
     "name": "stdout",
     "output_type": "stream",
     "text": [
      "pls enter your height:183\n"
     ]
    }
   ],
   "source": [
    "height = input('pls enter your height:')"
   ]
  },
  {
   "cell_type": "code",
   "execution_count": 5,
   "id": "e1555ef8",
   "metadata": {},
   "outputs": [
    {
     "name": "stdout",
     "output_type": "stream",
     "text": [
      "pls enter your weight:140\n"
     ]
    }
   ],
   "source": [
    "weight = input('pls enter your weight:')"
   ]
  },
  {
   "cell_type": "code",
   "execution_count": 6,
   "id": "abd12e38",
   "metadata": {},
   "outputs": [],
   "source": [
    "height = float(height)"
   ]
  },
  {
   "cell_type": "code",
   "execution_count": 7,
   "id": "fb9d668f",
   "metadata": {},
   "outputs": [],
   "source": [
    "weight = float(weight)"
   ]
  },
  {
   "cell_type": "code",
   "execution_count": 8,
   "id": "92e5ee4f",
   "metadata": {},
   "outputs": [],
   "source": [
    "bmi = weight/height**2"
   ]
  },
  {
   "cell_type": "code",
   "execution_count": 9,
   "id": "80d5a1d8",
   "metadata": {},
   "outputs": [
    {
     "name": "stdout",
     "output_type": "stream",
     "text": [
      "you are light\n"
     ]
    }
   ],
   "source": [
    "if bmi < 18.5:\n",
    "    print('you are light')\n",
    "elif bmi >= 18.5 and bmi < 25:\n",
    "    print('you are normal')\n",
    "elif bmi >= 25 and bmi < 32:\n",
    "    print('too fat')\n",
    "else:\n",
    "    print('dangerous')"
   ]
  },
  {
   "cell_type": "code",
   "execution_count": null,
   "id": "ac176ff1",
   "metadata": {},
   "outputs": [],
   "source": []
  },
  {
   "cell_type": "code",
   "execution_count": 10,
   "id": "5957881c",
   "metadata": {},
   "outputs": [
    {
     "name": "stdout",
     "output_type": "stream",
     "text": [
      "pls enter your final grade:99\n"
     ]
    }
   ],
   "source": [
    "final_grades = input('pls enter your final grade:') # 期末卷面成绩"
   ]
  },
  {
   "cell_type": "code",
   "execution_count": 11,
   "id": "93679e6a",
   "metadata": {},
   "outputs": [],
   "source": [
    "final_grades = float(final_grades)"
   ]
  },
  {
   "cell_type": "code",
   "execution_count": 12,
   "id": "d9733f0f",
   "metadata": {},
   "outputs": [
    {
     "name": "stdout",
     "output_type": "stream",
     "text": [
      "pls enter your normal homework grades:99\n"
     ]
    }
   ],
   "source": [
    "homework_grades = input('pls enter your normal homework grades:') # 平时作业成绩"
   ]
  },
  {
   "cell_type": "code",
   "execution_count": 13,
   "id": "18848995",
   "metadata": {},
   "outputs": [],
   "source": [
    "homework_grades = float(homework_grades)"
   ]
  },
  {
   "cell_type": "code",
   "execution_count": 14,
   "id": "41bcc078",
   "metadata": {},
   "outputs": [
    {
     "name": "stdout",
     "output_type": "stream",
     "text": [
      "pls enter your attendance:100\n"
     ]
    }
   ],
   "source": [
    "attendance = input('pls enter your attendance:') # 出勤率"
   ]
  },
  {
   "cell_type": "code",
   "execution_count": 15,
   "id": "4ba329e5",
   "metadata": {},
   "outputs": [],
   "source": [
    "attendance = float(attendance)"
   ]
  },
  {
   "cell_type": "code",
   "execution_count": 16,
   "id": "fd768720",
   "metadata": {},
   "outputs": [
    {
     "name": "stdout",
     "output_type": "stream",
     "text": [
      "pls enter your Mid-term grades90\n"
     ]
    }
   ],
   "source": [
    "midterm_grades = input('pls enter your Mid-term grades') # 期中成绩"
   ]
  },
  {
   "cell_type": "code",
   "execution_count": 17,
   "id": "d391939d",
   "metadata": {},
   "outputs": [],
   "source": [
    "midterm_grades = float(midterm_grades)"
   ]
  },
  {
   "cell_type": "code",
   "execution_count": 18,
   "id": "d9ca3a71",
   "metadata": {},
   "outputs": [],
   "source": [
    "usual_grades = attendance * 0.25 + homework_grades * 0.25 + midterm_grades * 0.5 # 平时成绩"
   ]
  },
  {
   "cell_type": "code",
   "execution_count": 19,
   "id": "f6cf6dcc",
   "metadata": {},
   "outputs": [],
   "source": [
    "result = usual_grades * 0.4 + final_grades * 0.6"
   ]
  },
  {
   "cell_type": "code",
   "execution_count": 20,
   "id": "bfc0d6bf",
   "metadata": {},
   "outputs": [
    {
     "name": "stdout",
     "output_type": "stream",
     "text": [
      "pass\n"
     ]
    }
   ],
   "source": [
    "if attendance < 1/3:\n",
    "    print('Attendance is too low, re-repair') # 出勤率过低，重修\n",
    "elif result < 60:\n",
    "    print('Make-up test for unqualified scores') # 成绩不合格补考\n",
    "else:\n",
    "    print('pass') # 通过"
   ]
  },
  {
   "cell_type": "code",
   "execution_count": null,
   "id": "6b3f45f7",
   "metadata": {},
   "outputs": [],
   "source": []
  },
  {
   "cell_type": "code",
   "execution_count": 21,
   "id": "3c9801ee",
   "metadata": {},
   "outputs": [],
   "source": [
    "def check(height, weight):\n",
    "    height = float(height)\n",
    "    weight = float(weight)\n",
    "    bmi = weight/height**2\n",
    "    if bmi < 18.5:\n",
    "        print('you are light')\n",
    "    elif bmi >= 18.5 and bmi < 25:\n",
    "        print('you are normal')\n",
    "    elif bmi >= 25 and bmi < 32:\n",
    "        print('too fat')\n",
    "    else:\n",
    "        print('dangerous')"
   ]
  },
  {
   "cell_type": "code",
   "execution_count": 22,
   "id": "9c0e7894",
   "metadata": {},
   "outputs": [
    {
     "name": "stdout",
     "output_type": "stream",
     "text": [
      "pls enter your height:183\n"
     ]
    }
   ],
   "source": [
    "height = input('pls enter your height:')"
   ]
  },
  {
   "cell_type": "code",
   "execution_count": 23,
   "id": "91f9c283",
   "metadata": {},
   "outputs": [
    {
     "name": "stdout",
     "output_type": "stream",
     "text": [
      "pls enter your weight:140\n"
     ]
    }
   ],
   "source": [
    "weight = input('pls enter your weight:')"
   ]
  },
  {
   "cell_type": "code",
   "execution_count": 24,
   "id": "b0d5bbf5",
   "metadata": {},
   "outputs": [
    {
     "name": "stdout",
     "output_type": "stream",
     "text": [
      "you are light\n"
     ]
    }
   ],
   "source": [
    "check(height, weight)"
   ]
  },
  {
   "cell_type": "code",
   "execution_count": null,
   "id": "a9af43a3",
   "metadata": {},
   "outputs": [],
   "source": []
  },
  {
   "cell_type": "code",
   "execution_count": 25,
   "id": "df66669a",
   "metadata": {},
   "outputs": [],
   "source": [
    "def getRecord(final_grades, homework_grades, attendance, midterm_grades):\n",
    "    final_grades = float(final_grades)\n",
    "    homework_grades = float(homework_grades)\n",
    "    attendance = float(attendance)\n",
    "    midterm_grades = float(midterm_grades)\n",
    "    usual_grades = attendance * 0.25 + homework_grades * 0.25 + midterm_grades * 0.5 # 平时成绩\n",
    "    result = usual_grades * 0.4 + final_grades * 0.6\n",
    "    if attendance < 1/3:\n",
    "        print('Attendance is too low, re-repair') # 出勤率过低，重修\n",
    "    elif result < 60:\n",
    "        print('Make-up test for unqualified scores') # 成绩不合格补考\n",
    "    else:\n",
    "        print('pass') # 通过"
   ]
  },
  {
   "cell_type": "code",
   "execution_count": 26,
   "id": "06e8c91d",
   "metadata": {},
   "outputs": [
    {
     "name": "stdout",
     "output_type": "stream",
     "text": [
      "pls enter your final grade:90\n"
     ]
    }
   ],
   "source": [
    "final_grades = input('pls enter your final grade:') # 期末卷面成绩"
   ]
  },
  {
   "cell_type": "code",
   "execution_count": 27,
   "id": "f4a0bbcb",
   "metadata": {},
   "outputs": [
    {
     "name": "stdout",
     "output_type": "stream",
     "text": [
      "pls enter your normal homework grades:90\n"
     ]
    }
   ],
   "source": [
    "homework_grades = input('pls enter your normal homework grades:') # 平时作业成绩"
   ]
  },
  {
   "cell_type": "code",
   "execution_count": 28,
   "id": "186d1516",
   "metadata": {},
   "outputs": [
    {
     "name": "stdout",
     "output_type": "stream",
     "text": [
      "pls enter your attendance:90\n"
     ]
    }
   ],
   "source": [
    "attendance = input('pls enter your attendance:') # 出勤率"
   ]
  },
  {
   "cell_type": "code",
   "execution_count": 29,
   "id": "9f9bdd14",
   "metadata": {},
   "outputs": [
    {
     "name": "stdout",
     "output_type": "stream",
     "text": [
      "pls enter your Mid-term grades:90\n"
     ]
    }
   ],
   "source": [
    "midterm_grades = input('pls enter your Mid-term grades:') # 期中成绩"
   ]
  },
  {
   "cell_type": "code",
   "execution_count": 30,
   "id": "88513eec",
   "metadata": {},
   "outputs": [
    {
     "name": "stdout",
     "output_type": "stream",
     "text": [
      "pass\n"
     ]
    }
   ],
   "source": [
    "getRecord(final_grades, homework_grades, attendance, midterm_grades)"
   ]
  },
  {
   "cell_type": "code",
   "execution_count": null,
   "id": "8c38809d",
   "metadata": {},
   "outputs": [],
   "source": []
  }
 ],
 "metadata": {
  "kernelspec": {
   "display_name": "Python 3",
   "language": "python",
   "name": "python3"
  },
  "language_info": {
   "codemirror_mode": {
    "name": "ipython",
    "version": 3
   },
   "file_extension": ".py",
   "mimetype": "text/x-python",
   "name": "python",
   "nbconvert_exporter": "python",
   "pygments_lexer": "ipython3",
   "version": "3.8.8"
  }
 },
 "nbformat": 4,
 "nbformat_minor": 5
}
