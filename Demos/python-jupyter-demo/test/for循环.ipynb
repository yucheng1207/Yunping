{
 "cells": [
  {
   "cell_type": "code",
   "execution_count": 1,
   "id": "97c52439-3b75-4678-8e01-40a13db1cfc3",
   "metadata": {},
   "outputs": [],
   "source": [
    "result = 0"
   ]
  },
  {
   "cell_type": "code",
   "execution_count": 2,
   "id": "3cbab0fe-dcea-42c5-823c-1592f27b5911",
   "metadata": {},
   "outputs": [],
   "source": [
    "for item in range(100):\n",
    "    result = result + (item + 1)"
   ]
  },
  {
   "cell_type": "code",
   "execution_count": 3,
   "id": "278ac727-53c9-4487-8cc8-98dc450976f9",
   "metadata": {},
   "outputs": [
    {
     "name": "stdout",
     "output_type": "stream",
     "text": [
      "5050\n"
     ]
    }
   ],
   "source": [
    "print(result)"
   ]
  },
  {
   "cell_type": "code",
   "execution_count": null,
   "id": "b7de4b33-47ac-4651-95e2-5f74d6b1aa6e",
   "metadata": {},
   "outputs": [],
   "source": []
  },
  {
   "cell_type": "code",
   "execution_count": 4,
   "id": "b597cac7-ae33-4abf-a3e6-2bf4cc8603c4",
   "metadata": {},
   "outputs": [],
   "source": [
    "import math"
   ]
  },
  {
   "cell_type": "code",
   "execution_count": 5,
   "id": "178706a6-a846-4038-ad81-fbe2142aacd6",
   "metadata": {},
   "outputs": [],
   "source": [
    "x = 2"
   ]
  },
  {
   "cell_type": "code",
   "execution_count": 6,
   "id": "88126e65-7456-4971-a8d8-7a225e31579c",
   "metadata": {},
   "outputs": [],
   "source": [
    "n = 3"
   ]
  },
  {
   "cell_type": "code",
   "execution_count": 7,
   "id": "067c7d27-d4b1-4449-bfcc-9886018e1a48",
   "metadata": {},
   "outputs": [
    {
     "name": "stdout",
     "output_type": "stream",
     "text": [
      "x的n次方： 8.0\n"
     ]
    }
   ],
   "source": [
    "print(\"x的n次方：\", math.pow(x, n))"
   ]
  },
  {
   "cell_type": "code",
   "execution_count": null,
   "id": "1fd398b2-9b1a-42dd-8517-4d254d359bfa",
   "metadata": {},
   "outputs": [],
   "source": []
  },
  {
   "cell_type": "code",
   "execution_count": 8,
   "id": "350d73d7",
   "metadata": {},
   "outputs": [],
   "source": [
    "names = ['Bart', 'Lisa', 'Adam', 'Michael', 'Hans']"
   ]
  },
  {
   "cell_type": "code",
   "execution_count": 9,
   "id": "0330da7a",
   "metadata": {},
   "outputs": [
    {
     "name": "stdout",
     "output_type": "stream",
     "text": [
      "pls enter the new user name that needs to be added: 123\n"
     ]
    }
   ],
   "source": [
    "newName = input('pls enter the new user name that needs to be added: ')"
   ]
  },
  {
   "cell_type": "code",
   "execution_count": 10,
   "id": "3f519df2",
   "metadata": {},
   "outputs": [],
   "source": [
    "isExist = False"
   ]
  },
  {
   "cell_type": "code",
   "execution_count": 11,
   "id": "5a4f41dc",
   "metadata": {},
   "outputs": [],
   "source": [
    "for name in names:\n",
    "    if name == newName:\n",
    "        isExist = True\n",
    "        break"
   ]
  },
  {
   "cell_type": "code",
   "execution_count": 12,
   "id": "3f013024",
   "metadata": {},
   "outputs": [
    {
     "name": "stdout",
     "output_type": "stream",
     "text": [
      "Thanks for signing up! 123\n"
     ]
    }
   ],
   "source": [
    "if isExist == True:\n",
    "    print('This user name has been used, please try another user name')\n",
    "else:\n",
    "    names.append(newName)\n",
    "    print('Thanks for signing up! ' + newName)"
   ]
  },
  {
   "cell_type": "code",
   "execution_count": null,
   "id": "202942e9",
   "metadata": {},
   "outputs": [],
   "source": []
  }
 ],
 "metadata": {
  "kernelspec": {
   "display_name": "Python 3",
   "language": "python",
   "name": "python3"
  },
  "language_info": {
   "codemirror_mode": {
    "name": "ipython",
    "version": 3
   },
   "file_extension": ".py",
   "mimetype": "text/x-python",
   "name": "python",
   "nbconvert_exporter": "python",
   "pygments_lexer": "ipython3",
   "version": "3.8.8"
  }
 },
 "nbformat": 4,
 "nbformat_minor": 5
}
