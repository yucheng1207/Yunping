{
 "cells": [
  {
   "cell_type": "code",
   "execution_count": 1,
   "id": "1aa17637",
   "metadata": {},
   "outputs": [
    {
     "name": "stdout",
     "output_type": "stream",
     "text": [
      "Requirement already satisfied: pdfminer3k in /Users/apple/opt/anaconda3/lib/python3.8/site-packages (1.3.4)\r\n",
      "Requirement already satisfied: ply in /Users/apple/opt/anaconda3/lib/python3.8/site-packages (from pdfminer3k) (3.11)\r\n"
     ]
    }
   ],
   "source": [
    "!pip install pdfminer3k"
   ]
  },
  {
   "cell_type": "code",
   "execution_count": 2,
   "id": "dff8a26d",
   "metadata": {},
   "outputs": [
    {
     "name": "stdout",
     "output_type": "stream",
     "text": [
      "Requirement already satisfied: pdfminer.six in /Users/apple/opt/anaconda3/lib/python3.8/site-packages (20211012)\n",
      "Requirement already satisfied: chardet in /Users/apple/opt/anaconda3/lib/python3.8/site-packages (from pdfminer.six) (4.0.0)\n",
      "Requirement already satisfied: cryptography in /Users/apple/opt/anaconda3/lib/python3.8/site-packages (from pdfminer.six) (3.4.7)\n",
      "Requirement already satisfied: cffi>=1.12 in /Users/apple/opt/anaconda3/lib/python3.8/site-packages (from cryptography->pdfminer.six) (1.14.5)\n",
      "Requirement already satisfied: pycparser in /Users/apple/opt/anaconda3/lib/python3.8/site-packages (from cffi>=1.12->cryptography->pdfminer.six) (2.20)\n"
     ]
    }
   ],
   "source": [
    "!pip install pdfminer.six"
   ]
  },
  {
   "cell_type": "code",
   "execution_count": 3,
   "id": "0cf81d44",
   "metadata": {},
   "outputs": [],
   "source": [
    "from pdfminer.pdfpage import PDFPage\n",
    "from pdfminer.pdfparser import PDFParser\n",
    "from pdfminer.pdfinterp import PDFResourceManager, PDFPageInterpreter\n",
    "from pdfminer.converter import PDFPageAggregator\n",
    "from pdfminer.layout import LAParams\n",
    "from pdfminer.pdfdocument import PDFDocument, PDFTextExtractionNotAllowed\n",
    "import os.path"
   ]
  },
  {
   "cell_type": "code",
   "execution_count": 4,
   "id": "2402c705",
   "metadata": {},
   "outputs": [],
   "source": [
    "def changePdfToText(filePath):\n",
    "    \"\"\"\n",
    "    解析pdf 文本，保存到同名txt文件中\n",
    "\n",
    "    param：\n",
    "    filePath: 需要读取的pdf文档的目录\n",
    "    introduced module:\n",
    "    from pdfminer.pdfpage import PDFPage\n",
    "    from pdfminer.pdfparser import PDFParser\n",
    "    from pdfminer.pdfinterp import PDFResourceManager, PDFPageInterpreter\n",
    "    from pdfminer.converter import PDFPageAggregator\n",
    "    from pdfminer.layout import LAParams\n",
    "    from pdfminer.pdfdocument import PDFDocument, PDFTextExtractionNotAllowed\n",
    "    import os.path\n",
    "    \"\"\"\n",
    "    file = open(filePath, 'rb') # 以二进制读模式打开\n",
    "    # 用文件对象来创建一个pdf文档分析器\n",
    "    praser = PDFParser(file)\n",
    "    # 创建一个PDF文档\n",
    "    doc = PDFDocument(praser, '') # praser ：上面创建的pdf文档分析器 ，第二个参数是密码，设置为空就好了\n",
    "    # 连接分析器 与文档对象\n",
    "    praser.set_document(doc)\n",
    "    print('123123')\n",
    "    print(doc.is_extractable)\n",
    "    # 检测文档是否提供txt转换，不提供就忽略\n",
    "    if not doc.is_extractable:\n",
    "        print(PDFTextExtractionNotAllowed)\n",
    "        raise PDFTextExtractionNotAllowed\n",
    "        # 创建PDf 资源管理器 来管理共享资源\n",
    "        rsrcmgr = PDFResourceManager()\n",
    "        # 创建一个PDF设备对象\n",
    "        laparams = LAParams()\n",
    "        device = PDFPageAggregator(rsrcmgr, laparams=laparams)\n",
    "        # 创建一个PDF解释器对象\n",
    "        interpreter = PDFPageInterpreter(rsrcmgr, device)\n",
    "        result = [] # 内容列表\n",
    "        # 循环遍历列表，每次处理一个page的内容\n",
    "        for page in PDFPage.create_pages(doc):\n",
    "            interpreter.process_page(page)\n",
    "             # 接受该页面的LTPage对象\n",
    "            layout = device.get_result()\n",
    "            for x in layout:\n",
    "                if hasattr(x, \"get_text\"):\n",
    "                    result.append(x.get_text())\n",
    "                    fileNames = os.path.splitext(filePath) # 分割\n",
    "                # 以追加的方式打开文件\n",
    "                with open(fileNames[0] + '.txt', 'a', encoding=\"utf-8\") as f:\n",
    "                    results = x.get_text()\n",
    "                    print(results) # 这个句可以取消注释就可以在控制台将所有内容输出了\n",
    "                    f.write(results) # 写入文件"
   ]
  },
  {
   "cell_type": "code",
   "execution_count": 5,
   "id": "84a14a10",
   "metadata": {},
   "outputs": [
    {
     "name": "stdout",
     "output_type": "stream",
     "text": [
      "123123\n",
      "True\n",
      "finish\n"
     ]
    }
   ],
   "source": [
    "path = '/Users/apple/Downloads/555.pdf'\n",
    "changePdfToText(path)\n",
    "print('finish')"
   ]
  }
 ],
 "metadata": {
  "kernelspec": {
   "display_name": "Python 3",
   "language": "python",
   "name": "python3"
  },
  "language_info": {
   "codemirror_mode": {
    "name": "ipython",
    "version": 3
   },
   "file_extension": ".py",
   "mimetype": "text/x-python",
   "name": "python",
   "nbconvert_exporter": "python",
   "pygments_lexer": "ipython3",
   "version": "3.8.8"
  }
 },
 "nbformat": 4,
 "nbformat_minor": 5
}
