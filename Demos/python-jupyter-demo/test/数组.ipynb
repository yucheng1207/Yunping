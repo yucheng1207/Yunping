{
 "cells": [
  {
   "cell_type": "code",
   "execution_count": 1,
   "id": "ad1ba694",
   "metadata": {},
   "outputs": [],
   "source": [
    "import numpy as np"
   ]
  },
  {
   "cell_type": "code",
   "execution_count": 2,
   "id": "edf2279f",
   "metadata": {},
   "outputs": [
    {
     "data": {
      "text/plain": [
       "array([100,  99,  98,  97,  96,  95,  94,  93,  92,  91,  90,  89,  88,\n",
       "        87,  86,  85,  84,  83,  82,  81,  80,  79,  78,  77,  76,  75,\n",
       "        74,  73,  72,  71,  70,  69,  68,  67,  66,  65,  64,  63,  62,\n",
       "        61,  60,  59,  58,  57,  56,  55,  54,  53,  52,  51,  50,  49,\n",
       "        48,  47,  46,  45,  44,  43,  42,  41,  40,  39,  38,  37,  36,\n",
       "        35,  34,  33,  32,  31,  30,  29,  28,  27,  26,  25,  24,  23,\n",
       "        22,  21,  20,  19,  18,  17,  16,  15,  14,  13,  12,  11,  10,\n",
       "         9,   8,   7,   6,   5,   4,   3,   2,   1])"
      ]
     },
     "execution_count": 2,
     "metadata": {},
     "output_type": "execute_result"
    }
   ],
   "source": [
    "data01 = np.arange(100, 0, -1) # 创建数组\n",
    "data01"
   ]
  },
  {
   "cell_type": "code",
   "execution_count": 3,
   "id": "a72cd4bb",
   "metadata": {},
   "outputs": [
    {
     "data": {
      "text/plain": [
       "array([  1,   2,   3,   4,   5,   6,   7,   8,   9,  10,  11,  12,  13,\n",
       "        14,  15,  16,  17,  18,  19,  20,  21,  22,  23,  24,  25,  26,\n",
       "        27,  28,  29,  30,  31,  32,  33,  34,  35,  36,  37,  38,  39,\n",
       "        40,  41,  42,  43,  44,  45,  46,  47,  48,  49,  50,  51,  52,\n",
       "        53,  54,  55,  56,  57,  58,  59,  60,  61,  62,  63,  64,  65,\n",
       "        66,  67,  68,  69,  70,  71,  72,  73,  74,  75,  76,  77,  78,\n",
       "        79,  80,  81,  82,  83,  84,  85,  86,  87,  88,  89,  90,  91,\n",
       "        92,  93,  94,  95,  96,  97,  98,  99, 100])"
      ]
     },
     "execution_count": 3,
     "metadata": {},
     "output_type": "execute_result"
    }
   ],
   "source": [
    "data01.sort() # 排序\n",
    "data01"
   ]
  },
  {
   "cell_type": "code",
   "execution_count": 4,
   "id": "83b24486",
   "metadata": {},
   "outputs": [
    {
     "data": {
      "text/plain": [
       "array([[  1,   2,   3,   4,   5,   6,   7,   8,   9,  10,  11,  12,  13,\n",
       "         14,  15,  16,  17,  18,  19,  20,  21,  22,  23,  24,  25],\n",
       "       [ 26,  27,  28,  29,  30,  31,  32,  33,  34,  35,  36,  37,  38,\n",
       "         39,  40,  41,  42,  43,  44,  45,  46,  47,  48,  49,  50],\n",
       "       [ 51,  52,  53,  54,  55,  56,  57,  58,  59,  60,  61,  62,  63,\n",
       "         64,  65,  66,  67,  68,  69,  70,  71,  72,  73,  74,  75],\n",
       "       [ 76,  77,  78,  79,  80,  81,  82,  83,  84,  85,  86,  87,  88,\n",
       "         89,  90,  91,  92,  93,  94,  95,  96,  97,  98,  99, 100]])"
      ]
     },
     "execution_count": 4,
     "metadata": {},
     "output_type": "execute_result"
    }
   ],
   "source": [
    "data01 = data01.reshape(4, 25) # 将数组data01变形成4行25列的2维数组\n",
    "data01"
   ]
  },
  {
   "cell_type": "code",
   "execution_count": null,
   "id": "f50790c1",
   "metadata": {},
   "outputs": [],
   "source": []
  },
  {
   "cell_type": "code",
   "execution_count": 5,
   "id": "e7392818",
   "metadata": {},
   "outputs": [
    {
     "data": {
      "text/plain": [
       "array([[0.61409752, 0.72188936, 0.17028083, 0.19634284],\n",
       "       [0.58336072, 0.59742395, 0.14322837, 0.66306055],\n",
       "       [0.83113562, 0.40306137, 0.33992794, 0.10054132]])"
      ]
     },
     "execution_count": 5,
     "metadata": {},
     "output_type": "execute_result"
    }
   ],
   "source": [
    "data02 = np.random.random((3, 4)) # 创建一个大小为3行4列的2维随机数组\n",
    "data02"
   ]
  },
  {
   "cell_type": "code",
   "execution_count": 6,
   "id": "94a97ae9",
   "metadata": {},
   "outputs": [
    {
     "data": {
      "text/plain": [
       "array([[0.61409752, 0.72188936, 0.17028083, 0.19634284],\n",
       "       [0.58336072, 0.59742395, 0.14322837, 0.66306055],\n",
       "       [0.83113562, 0.40306137, 0.33992794, 0.10054132]])"
      ]
     },
     "execution_count": 6,
     "metadata": {},
     "output_type": "execute_result"
    }
   ],
   "source": [
    "data02[0:3, 1:4] # 选取数组data02后3列，也就是第2列到第4列元素\n",
    "data02"
   ]
  },
  {
   "cell_type": "code",
   "execution_count": 7,
   "id": "1d26158e",
   "metadata": {},
   "outputs": [
    {
     "data": {
      "text/plain": [
       "0.831135615422107"
      ]
     },
     "execution_count": 7,
     "metadata": {},
     "output_type": "execute_result"
    }
   ],
   "source": [
    "data02.max() # 获取最大值"
   ]
  },
  {
   "cell_type": "code",
   "execution_count": 8,
   "id": "5cfdddd6",
   "metadata": {},
   "outputs": [
    {
     "data": {
      "text/plain": [
       "0.10054132464907473"
      ]
     },
     "execution_count": 8,
     "metadata": {},
     "output_type": "execute_result"
    }
   ],
   "source": [
    "data02.min() # 获取最小值"
   ]
  },
  {
   "cell_type": "code",
   "execution_count": 9,
   "id": "120bb244",
   "metadata": {},
   "outputs": [
    {
     "data": {
      "text/plain": [
       "5.36435040204181"
      ]
     },
     "execution_count": 9,
     "metadata": {},
     "output_type": "execute_result"
    }
   ],
   "source": [
    "data02.sum() # 求和"
   ]
  },
  {
   "cell_type": "code",
   "execution_count": 10,
   "id": "1afad73f",
   "metadata": {},
   "outputs": [
    {
     "data": {
      "text/plain": [
       "array([0.83113562, 0.72188936, 0.33992794, 0.66306055])"
      ]
     },
     "execution_count": 10,
     "metadata": {},
     "output_type": "execute_result"
    }
   ],
   "source": [
    "data02.max(axis=0) # 获取每一列的最大值"
   ]
  },
  {
   "cell_type": "code",
   "execution_count": 11,
   "id": "9b877f2f",
   "metadata": {},
   "outputs": [
    {
     "data": {
      "text/plain": [
       "array([0.58336072, 0.40306137, 0.14322837, 0.10054132])"
      ]
     },
     "execution_count": 11,
     "metadata": {},
     "output_type": "execute_result"
    }
   ],
   "source": [
    "data02.min(axis=0) # 获取每一列的最小值"
   ]
  },
  {
   "cell_type": "code",
   "execution_count": 12,
   "id": "f01e2108",
   "metadata": {},
   "outputs": [
    {
     "data": {
      "text/plain": [
       "array([2.02859386, 1.72237469, 0.65343715, 0.95994471])"
      ]
     },
     "execution_count": 12,
     "metadata": {},
     "output_type": "execute_result"
    }
   ],
   "source": [
    "data02.sum(axis=0) # 获取每一列的总和"
   ]
  },
  {
   "cell_type": "code",
   "execution_count": 13,
   "id": "84d21f9b",
   "metadata": {},
   "outputs": [
    {
     "data": {
      "text/plain": [
       "array([0.61409752, 0.72188936, 0.17028083, 0.19634284, 0.58336072,\n",
       "       0.59742395, 0.14322837, 0.66306055, 0.83113562, 0.40306137,\n",
       "       0.33992794, 0.10054132])"
      ]
     },
     "execution_count": 13,
     "metadata": {},
     "output_type": "execute_result"
    }
   ],
   "source": [
    "data02.flatten() # 二维数组变成一维数组"
   ]
  },
  {
   "cell_type": "code",
   "execution_count": 14,
   "id": "84b6dc12",
   "metadata": {},
   "outputs": [
    {
     "data": {
      "text/plain": [
       "array([[0.61409752, 0.72188936, 0.17028083],\n",
       "       [0.19634284, 0.58336072, 0.59742395],\n",
       "       [0.14322837, 0.66306055, 0.83113562],\n",
       "       [0.40306137, 0.33992794, 0.10054132]])"
      ]
     },
     "execution_count": 14,
     "metadata": {},
     "output_type": "execute_result"
    }
   ],
   "source": [
    "data02.flatten().reshape(4, 3) # 将data02变成4行3列的2维数组"
   ]
  }
 ],
 "metadata": {
  "kernelspec": {
   "display_name": "Python 3",
   "language": "python",
   "name": "python3"
  },
  "language_info": {
   "codemirror_mode": {
    "name": "ipython",
    "version": 3
   },
   "file_extension": ".py",
   "mimetype": "text/x-python",
   "name": "python",
   "nbconvert_exporter": "python",
   "pygments_lexer": "ipython3",
   "version": "3.8.8"
  }
 },
 "nbformat": 4,
 "nbformat_minor": 5
}
