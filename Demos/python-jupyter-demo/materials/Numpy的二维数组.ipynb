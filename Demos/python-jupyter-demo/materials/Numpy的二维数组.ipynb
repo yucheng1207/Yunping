{
 "cells": [
  {
   "cell_type": "markdown",
   "id": "a26ea90b-2242-4521-b34c-1c0221064b74",
   "metadata": {},
   "source": [
    "# Numpy的二维数组"
   ]
  },
  {
   "cell_type": "markdown",
   "id": "ae8ac23c-6dac-4042-b58f-eda11557746b",
   "metadata": {},
   "source": [
    "## 1. 创建二维数组"
   ]
  },
  {
   "cell_type": "markdown",
   "id": "bb3be42f-218c-44cb-912a-2d2648f9c2b0",
   "metadata": {},
   "source": [
    "如何创建一个二维数组呢？\n",
    "你可以传递Python列表的列表来创建一个2d数组(或“矩阵”)来在NumPy中表示它们。"
   ]
  },
  {
   "cell_type": "code",
   "execution_count": 26,
   "id": "27b9311c-8284-4a3e-88e2-ba676293d082",
   "metadata": {},
   "outputs": [
    {
     "data": {
      "text/plain": [
       "array([[1, 2],\n",
       "       [3, 4],\n",
       "       [5, 6]])"
      ]
     },
     "execution_count": 26,
     "metadata": {},
     "output_type": "execute_result"
    }
   ],
   "source": [
    "import numpy as np\n",
    "data = np.array([[1, 2], [3, 4], [5, 6]])\n",
    "data"
   ]
  },
  {
   "cell_type": "markdown",
   "id": "48e6232c-1113-4186-ab2c-740e63862120",
   "metadata": {},
   "source": [
    "![np_create_matrix](图片/np_create_matrix.png)"
   ]
  },
  {
   "cell_type": "markdown",
   "id": "a60a4f80-3c5b-4fd4-9d4c-3e87543634cc",
   "metadata": {},
   "source": [
    "在一维数组的创建中，我们已经学会ones()， zeros()和random()，当然也可以使用ones()， zeros()和random()来创建一个2D数组，如果你给他们一个元组来描述矩阵的维数:"
   ]
  },
  {
   "cell_type": "markdown",
   "id": "8e7e3714-d076-42f1-bed6-1acf0a659b8f",
   "metadata": {},
   "source": [
    "```python\n",
    ">>> np.ones((3, 2))\n",
    "array([[1., 1.],\n",
    "       [1., 1.],\n",
    "       [1., 1.]])\n",
    ">>> np.zeros((3, 2))\n",
    "array([[0., 0.],\n",
    "       [0., 0.],\n",
    "       [0., 0.]])\n",
    ">>> rng.random((3, 2))\n",
    "```"
   ]
  },
  {
   "cell_type": "markdown",
   "id": "f026baad-17bc-4a6a-9166-4519aefcbe8a",
   "metadata": {},
   "source": [
    "![np_ones_zeros_matrix](图片/np_ones_zeros_matrix.png)"
   ]
  },
  {
   "cell_type": "markdown",
   "id": "24c8807f-2733-46f2-8c7b-3d90bf9a7912",
   "metadata": {},
   "source": [
    "## 2. 索引和切片"
   ]
  },
  {
   "cell_type": "markdown",
   "id": "156b831a-465f-4ba8-8dbc-f3d1fc7b77ed",
   "metadata": {},
   "source": [
    "当你在操作矩阵时，索引和切片操作很有用:"
   ]
  },
  {
   "cell_type": "code",
   "execution_count": 10,
   "id": "7d931775-8e92-4d89-b901-62ab00eb74d3",
   "metadata": {},
   "outputs": [
    {
     "data": {
      "text/plain": [
       "2"
      ]
     },
     "execution_count": 10,
     "metadata": {},
     "output_type": "execute_result"
    }
   ],
   "source": [
    "data[0, 1]"
   ]
  },
  {
   "cell_type": "code",
   "execution_count": 11,
   "id": "73c761ff-65e2-4269-9be7-a4db9b7e20b0",
   "metadata": {},
   "outputs": [
    {
     "data": {
      "text/plain": [
       "array([[3, 4],\n",
       "       [5, 6]])"
      ]
     },
     "execution_count": 11,
     "metadata": {},
     "output_type": "execute_result"
    }
   ],
   "source": [
    "data[1:3]"
   ]
  },
  {
   "cell_type": "code",
   "execution_count": 12,
   "id": "3951b3cf-9da0-443a-882a-bbe4df9a1c77",
   "metadata": {},
   "outputs": [
    {
     "data": {
      "text/plain": [
       "array([1, 3])"
      ]
     },
     "execution_count": 12,
     "metadata": {},
     "output_type": "execute_result"
    }
   ],
   "source": [
    "data[0:2, 0]"
   ]
  },
  {
   "cell_type": "markdown",
   "id": "fe870183-73a6-4ade-b7a9-453dbf0d5cb9",
   "metadata": {},
   "source": [
    "![np_matrix_indexing](图片/np_matrix_indexing.png)"
   ]
  },
  {
   "cell_type": "markdown",
   "id": "05be080a-dd73-45c1-9bca-fb1c4231a78d",
   "metadata": {},
   "source": [
    "### 满足特定条件的切片 "
   ]
  },
  {
   "cell_type": "markdown",
   "id": "c85f5406-6617-431b-971c-530731f83547",
   "metadata": {},
   "source": [
    "如果想从数组中选择满足特定条件的值，使用NumPy很简单。"
   ]
  },
  {
   "cell_type": "code",
   "execution_count": 31,
   "id": "92061dc1-cf9b-4f20-861c-ba9f8ee6b215",
   "metadata": {},
   "outputs": [
    {
     "data": {
      "text/plain": [
       "array([[ 1,  2,  3,  4],\n",
       "       [ 5,  6,  7,  8],\n",
       "       [ 9, 10, 11, 12]])"
      ]
     },
     "execution_count": 31,
     "metadata": {},
     "output_type": "execute_result"
    }
   ],
   "source": [
    "a = np.array([[1 , 2, 3, 4], [5, 6, 7, 8], [9, 10, 11, 12]])\n",
    "a"
   ]
  },
  {
   "cell_type": "markdown",
   "id": "fe2fe660-8dae-418e-a55a-e7e32255faf6",
   "metadata": {},
   "source": [
    "从a中选取小于10的子集："
   ]
  },
  {
   "cell_type": "code",
   "execution_count": 32,
   "id": "e560668e-9a83-4bcc-984d-98e0d794f427",
   "metadata": {},
   "outputs": [
    {
     "data": {
      "text/plain": [
       "array([1, 2, 3, 4, 5, 6, 7, 8, 9])"
      ]
     },
     "execution_count": 32,
     "metadata": {},
     "output_type": "execute_result"
    }
   ],
   "source": [
    "below_five = a[a < 10]\n",
    "below_five"
   ]
  },
  {
   "cell_type": "markdown",
   "id": "62dafb02-6dff-48ba-beed-cee8a699147c",
   "metadata": {},
   "source": [
    "或者是选取可以被2整除的子集："
   ]
  },
  {
   "cell_type": "code",
   "execution_count": 25,
   "id": "5db9ee36-e540-40be-9c68-7d6c6419e747",
   "metadata": {},
   "outputs": [
    {
     "data": {
      "text/plain": [
       "array([ 2,  4,  6,  8, 10, 12])"
      ]
     },
     "execution_count": 25,
     "metadata": {},
     "output_type": "execute_result"
    }
   ],
   "source": [
    "divisible_by_2 = a[a%2==0]\n",
    "divisible_by_2"
   ]
  },
  {
   "cell_type": "markdown",
   "id": "b6acbb0a-525d-47a4-a881-625634baf39c",
   "metadata": {},
   "source": [
    "选取满足多组条件下的子集："
   ]
  },
  {
   "cell_type": "code",
   "execution_count": 34,
   "id": "9be0f1ae-b27b-4dbc-a893-832587b61b68",
   "metadata": {},
   "outputs": [
    {
     "data": {
      "text/plain": [
       "array([ 3,  4,  5,  6,  7,  8,  9, 10])"
      ]
     },
     "execution_count": 34,
     "metadata": {},
     "output_type": "execute_result"
    }
   ],
   "source": [
    "a[(a > 2) & (a < 11)]"
   ]
  },
  {
   "cell_type": "markdown",
   "id": "d83f9db3-15ed-4046-b14f-ca8dbf846767",
   "metadata": {},
   "source": [
    "## 3. 数学运算"
   ]
  },
  {
   "cell_type": "markdown",
   "id": "f4e7e71d-bdbc-4ebe-a586-ff5cbeae9070",
   "metadata": {},
   "source": [
    "和一维数组一样，二维数组的求最大值、最小值和总和，如下："
   ]
  },
  {
   "cell_type": "code",
   "execution_count": 14,
   "id": "a3cde0de-505b-4a86-98a2-6760ab1f6d45",
   "metadata": {},
   "outputs": [
    {
     "data": {
      "text/plain": [
       "6"
      ]
     },
     "execution_count": 14,
     "metadata": {},
     "output_type": "execute_result"
    }
   ],
   "source": [
    "data.max()"
   ]
  },
  {
   "cell_type": "code",
   "execution_count": 15,
   "id": "5ba43990-0576-4865-878d-090b168028cf",
   "metadata": {},
   "outputs": [
    {
     "data": {
      "text/plain": [
       "1"
      ]
     },
     "execution_count": 15,
     "metadata": {},
     "output_type": "execute_result"
    }
   ],
   "source": [
    "data.min()"
   ]
  },
  {
   "cell_type": "code",
   "execution_count": 16,
   "id": "529b463a-d5f9-48d8-ba9a-11abec239a0e",
   "metadata": {},
   "outputs": [
    {
     "data": {
      "text/plain": [
       "21"
      ]
     },
     "execution_count": 16,
     "metadata": {},
     "output_type": "execute_result"
    }
   ],
   "source": [
    "data.sum()"
   ]
  },
  {
   "cell_type": "markdown",
   "id": "ba52ce80-67bd-46b2-a097-9a34ba118756",
   "metadata": {},
   "source": [
    "![np_matrix_aggregation](图片/np_matrix_aggregation.png)"
   ]
  },
  {
   "cell_type": "markdown",
   "id": "4096c42b-bc96-470f-8670-1b473400b535",
   "metadata": {},
   "source": [
    "你可以在一个矩阵中聚合所有的值，你可以使用轴参数跨列或行聚合它们:"
   ]
  },
  {
   "cell_type": "code",
   "execution_count": 19,
   "id": "932c7069-cbf4-42d5-b87a-b499f7cd3b2e",
   "metadata": {},
   "outputs": [
    {
     "data": {
      "text/plain": [
       "array([5, 6])"
      ]
     },
     "execution_count": 19,
     "metadata": {},
     "output_type": "execute_result"
    }
   ],
   "source": [
    "data.max(axis=0)"
   ]
  },
  {
   "cell_type": "code",
   "execution_count": 20,
   "id": "9d80fea1-20fb-4512-bc5f-2c450fad0b11",
   "metadata": {},
   "outputs": [
    {
     "data": {
      "text/plain": [
       "array([2, 4, 6])"
      ]
     },
     "execution_count": 20,
     "metadata": {},
     "output_type": "execute_result"
    }
   ],
   "source": [
    "data.max(axis=1)"
   ]
  },
  {
   "cell_type": "markdown",
   "id": "a1e6e784-e76b-4968-a0c8-db2996e11763",
   "metadata": {},
   "source": [
    "![np_matrix_aggregation_row](图片/np_matrix_aggregation_row.png)"
   ]
  },
  {
   "cell_type": "markdown",
   "id": "19f93cd6-e1f4-4320-9bda-3e658c743693",
   "metadata": {},
   "source": [
    "一旦你创建了你的矩阵，如果你有两个相同大小的矩阵，你可以使用算术运算符对它们进行相加和相乘"
   ]
  },
  {
   "cell_type": "code",
   "execution_count": 21,
   "id": "7afe12d9-1ddf-4d56-8368-d76fa5cfbc97",
   "metadata": {},
   "outputs": [
    {
     "data": {
      "text/plain": [
       "array([[2, 3],\n",
       "       [4, 5]])"
      ]
     },
     "execution_count": 21,
     "metadata": {},
     "output_type": "execute_result"
    }
   ],
   "source": [
    "data = np.array([[1, 2], [3, 4]])\n",
    "ones = np.array([[1, 1], [1, 1]])\n",
    "data + ones"
   ]
  },
  {
   "cell_type": "markdown",
   "id": "e3f52361-e5c1-4765-a08a-0632d8dfab39",
   "metadata": {},
   "source": [
    "![np_matrix_arithmetic](图片/np_matrix_arithmetic.png)"
   ]
  },
  {
   "cell_type": "markdown",
   "id": "2ab445c2-fce6-490d-b42a-63e11edee44b",
   "metadata": {},
   "source": [
    "你可以在不同大小的矩阵上做这些算术运算，但只有当一个矩阵只有一列或一行。在本例中，NumPy将使用它的广播规则进行操作。"
   ]
  },
  {
   "cell_type": "code",
   "execution_count": 22,
   "id": "dca774b9-ffc6-4d4d-a422-dd7236ff66c5",
   "metadata": {},
   "outputs": [
    {
     "data": {
      "text/plain": [
       "array([[2, 3],\n",
       "       [4, 5],\n",
       "       [6, 7]])"
      ]
     },
     "execution_count": 22,
     "metadata": {},
     "output_type": "execute_result"
    }
   ],
   "source": [
    "data = np.array([[1, 2], [3, 4], [5, 6]])\n",
    "ones_row = np.array([[1, 1]])\n",
    "data + ones_row"
   ]
  },
  {
   "cell_type": "markdown",
   "id": "b983b104-5b0c-4e01-9101-a4d00d7e3e34",
   "metadata": {},
   "source": [
    "![np_matrix_broadcasting](图片/np_matrix_broadcasting.png)"
   ]
  },
  {
   "cell_type": "markdown",
   "id": "ca67e695-4e2d-40fd-9287-e73a0371495d",
   "metadata": {},
   "source": [
    "## 转置\n",
    "通常需要对矩阵进行转置。NumPy数组有一个属性T，它允许你对一个矩阵进行转置"
   ]
  },
  {
   "cell_type": "code",
   "execution_count": 33,
   "id": "ab96f579-2a38-4e07-a28d-23492b0b4794",
   "metadata": {},
   "outputs": [
    {
     "data": {
      "text/plain": [
       "array([[1, 2],\n",
       "       [3, 4],\n",
       "       [5, 6]])"
      ]
     },
     "execution_count": 33,
     "metadata": {},
     "output_type": "execute_result"
    }
   ],
   "source": [
    "data"
   ]
  },
  {
   "cell_type": "code",
   "execution_count": 32,
   "id": "60c519b8-5657-4edf-94b5-9f8976ebd78c",
   "metadata": {},
   "outputs": [
    {
     "data": {
      "text/plain": [
       "array([[1, 3, 5],\n",
       "       [2, 4, 6]])"
      ]
     },
     "execution_count": 32,
     "metadata": {},
     "output_type": "execute_result"
    }
   ],
   "source": [
    "data.T"
   ]
  },
  {
   "cell_type": "markdown",
   "id": "8f8cedb3-9d29-4784-9119-d2fa7fb899c7",
   "metadata": {},
   "source": [
    "![np_transposing_reshaping](图片/np_transposing_reshaping.png)"
   ]
  },
  {
   "cell_type": "markdown",
   "id": "93956975-43e1-49ed-ae2b-1d41ddf4d08c",
   "metadata": {},
   "source": [
    "## 变形"
   ]
  },
  {
   "cell_type": "markdown",
   "id": "86ac4d0f-00e1-425e-b989-caab69ecda05",
   "metadata": {},
   "source": [
    "你可能还需要变换矩阵的维数。例如，当您有一个模型，它需要一个与您的数据集不同的输入形状时，就会发生这种情况。这就是重塑方法可以发挥作用的地方。你只需要传递你想要的矩阵的新维度。"
   ]
  },
  {
   "cell_type": "markdown",
   "id": "607255f3-d496-40e1-9462-215392a4bd04",
   "metadata": {},
   "source": [
    "```python\n",
    ">>> data.reshape(2, 3)\n",
    "array([[1, 2, 3],\n",
    "       [4, 5, 6]])\n",
    ">>> data.reshape(3, 2)\n",
    "array([[1, 2],\n",
    "       [3, 4],\n",
    "       [5, 6]])\n",
    "```"
   ]
  },
  {
   "cell_type": "markdown",
   "id": "b748fb65-bcb8-43f2-a8ab-ecad7b8d7065",
   "metadata": {},
   "source": [
    "![np_reshape](图片/np_reshape.png)"
   ]
  },
  {
   "cell_type": "markdown",
   "id": "9a3ae7ad-7ac2-4691-91a4-27cbfb6d2de0",
   "metadata": {},
   "source": [
    "如果想把2维数组变成1维，该如何操作呢？"
   ]
  },
  {
   "cell_type": "code",
   "execution_count": 35,
   "id": "1b05e3b3-1bfa-4b40-89b4-3f92f244ef64",
   "metadata": {},
   "outputs": [
    {
     "data": {
      "text/plain": [
       "array([[ 1,  2,  3,  4],\n",
       "       [ 5,  6,  7,  8],\n",
       "       [ 9, 10, 11, 12]])"
      ]
     },
     "execution_count": 35,
     "metadata": {},
     "output_type": "execute_result"
    }
   ],
   "source": [
    "x = np.array([[1 , 2, 3, 4], [5, 6, 7, 8], [9, 10, 11, 12]])\n",
    "x"
   ]
  },
  {
   "cell_type": "code",
   "execution_count": 38,
   "id": "25355ad9-1f8f-42f4-8159-0509e112fbb9",
   "metadata": {},
   "outputs": [
    {
     "data": {
      "text/plain": [
       "array([ 1,  2,  3,  4,  5,  6,  7,  8,  9, 10, 11, 12])"
      ]
     },
     "execution_count": 38,
     "metadata": {},
     "output_type": "execute_result"
    }
   ],
   "source": [
    "x.flatten()"
   ]
  }
 ],
 "metadata": {
  "kernelspec": {
   "display_name": "Python 3",
   "language": "python",
   "name": "python3"
  },
  "language_info": {
   "codemirror_mode": {
    "name": "ipython",
    "version": 3
   },
   "file_extension": ".py",
   "mimetype": "text/x-python",
   "name": "python",
   "nbconvert_exporter": "python",
   "pygments_lexer": "ipython3",
   "version": "3.8.5"
  }
 },
 "nbformat": 4,
 "nbformat_minor": 5
}
