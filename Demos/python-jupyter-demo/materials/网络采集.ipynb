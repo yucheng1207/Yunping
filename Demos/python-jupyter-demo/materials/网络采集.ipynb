{
 "cells": [
  {
   "cell_type": "markdown",
   "id": "1b8ec882-e766-4e84-8d82-dd6bc91862e4",
   "metadata": {},
   "source": [
    "# Unipath采集方法"
   ]
  },
  {
   "cell_type": "markdown",
   "id": "2febbe65-adc6-4947-b52c-ca975e9ead41",
   "metadata": {},
   "source": [
    "## 1.Unipath软件介绍\n",
    "开发UiPath软件的公司是一家领先的机器人流程自动化供应商。这款软件主要是帮助企业高效完成业务流程自动化，包括数据抓取，清洗，分析，构建模型并完成流程的自动化。"
   ]
  },
  {
   "cell_type": "markdown",
   "id": "0535e66c-3582-4321-9bc9-387a28b9dbef",
   "metadata": {},
   "source": [
    "![unipath.png](图片/unipath.png)"
   ]
  },
  {
   "cell_type": "markdown",
   "id": "144bb574-812d-4c70-9074-cdc741580816",
   "metadata": {},
   "source": [
    "## 2. 操作方法介绍"
   ]
  },
  {
   "cell_type": "markdown",
   "id": "fff7699a-e02b-42bc-add7-0330e38daf40",
   "metadata": {},
   "source": [
    "第一步，登陆：http://221.181.208.178:9090"
   ]
  },
  {
   "cell_type": "markdown",
   "id": "a824e111-e25b-425d-b082-1ece19078023",
   "metadata": {},
   "source": [
    "第二步，搜索关键词“零代码”，进入【零代码数据爬取】"
   ]
  },
  {
   "cell_type": "markdown",
   "id": "ee1cc7ae-15c1-4ab5-8731-90fabde094e5",
   "metadata": {},
   "source": [
    "![p1.png](图片/p1.png)"
   ]
  },
  {
   "cell_type": "markdown",
   "id": "3c98c9da-1eb1-4700-9fd7-eef3c228448a",
   "metadata": {},
   "source": [
    "第三步，选择任意实验，按照操作进行练习。"
   ]
  },
  {
   "cell_type": "markdown",
   "id": "2baa780a-4a90-4483-b502-0d50950d5991",
   "metadata": {},
   "source": [
    "![p2.png](图片/p2.png)"
   ]
  },
  {
   "cell_type": "code",
   "execution_count": null,
   "id": "ca38b5ef-4122-49a2-a738-5c86091e4cff",
   "metadata": {},
   "outputs": [],
   "source": []
  }
 ],
 "metadata": {
  "kernelspec": {
   "display_name": "Python 3",
   "language": "python",
   "name": "python3"
  },
  "language_info": {
   "codemirror_mode": {
    "name": "ipython",
    "version": 3
   },
   "file_extension": ".py",
   "mimetype": "text/x-python",
   "name": "python",
   "nbconvert_exporter": "python",
   "pygments_lexer": "ipython3",
   "version": "3.8.5"
  }
 },
 "nbformat": 4,
 "nbformat_minor": 5
}
