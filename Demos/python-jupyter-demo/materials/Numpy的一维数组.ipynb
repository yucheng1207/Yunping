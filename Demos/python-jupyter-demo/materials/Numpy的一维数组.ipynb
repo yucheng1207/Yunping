{
 "cells": [
  {
   "cell_type": "markdown",
   "id": "53e7994b-a014-45b4-8c0e-fe2a4f1294b8",
   "metadata": {},
   "source": [
    "# Numpy的一维数组"
   ]
  },
  {
   "cell_type": "markdown",
   "id": "c006d812-6902-43fe-93db-f4b90e8bf2e6",
   "metadata": {},
   "source": [
    "## 1. Numpy的数组介绍"
   ]
  },
  {
   "cell_type": "markdown",
   "id": "5c9935e8-b182-4a32-8b41-04f34b9035ae",
   "metadata": {},
   "source": [
    "在学习python基础编程时，我们已经掌握了列表（Lists）的创建和使用。Numpy中的有一种数据结构叫：数组（Arrays）。它和Lists有什么不同呢？\n",
    "\n",
    "- Numpy 数组比列表运行速度更快，更省计算机资源。\n",
    "- 作为NumPy中主要的数据结构，数组是一些值组成的网格，它包含关于原始数据的信息，以及如何定位元素，意思是可以以各种方式对其进行索引。这些元素都是相同的类型，称为数组dtype。"
   ]
  },
  {
   "cell_type": "markdown",
   "id": "fdb06888-caca-46a5-85f6-bd0c76bf551e",
   "metadata": {},
   "source": [
    "数组可以由非负整数、元组、布尔值、另一个数组组成。数组的形状是一个整数元组，给出了数组的每个维度的大小。"
   ]
  },
  {
   "cell_type": "markdown",
   "id": "bb4216d4-adba-456a-a49d-407c2787ba54",
   "metadata": {},
   "source": [
    "初始化NumPy数组的一种方法是使用Python列表，对二维或高维数据使用嵌套列表。\n",
    "\n",
    "举例，"
   ]
  },
  {
   "cell_type": "code",
   "execution_count": 1,
   "id": "1a11d216-fa5f-46b4-b389-f3a419c05c9c",
   "metadata": {},
   "outputs": [
    {
     "data": {
      "text/plain": [
       "array([1, 2, 3, 4, 5, 6])"
      ]
     },
     "execution_count": 1,
     "metadata": {},
     "output_type": "execute_result"
    }
   ],
   "source": [
    "import numpy as np\n",
    "a = np.array([1, 2, 3, 4, 5, 6])\n",
    "a"
   ]
  },
  {
   "cell_type": "code",
   "execution_count": 2,
   "id": "e0a39a5f-ad46-48ed-9bc4-b2c615422fdc",
   "metadata": {},
   "outputs": [
    {
     "data": {
      "text/plain": [
       "array([[ 1,  2,  3,  4],\n",
       "       [ 5,  6,  7,  8],\n",
       "       [ 9, 10, 11, 12]])"
      ]
     },
     "execution_count": 2,
     "metadata": {},
     "output_type": "execute_result"
    }
   ],
   "source": [
    "a = np.array([[1, 2, 3, 4], [5, 6, 7, 8], [9, 10, 11, 12]])\n",
    "a"
   ]
  },
  {
   "cell_type": "markdown",
   "id": "34178583-5262-408c-a9c2-98d077ea7232",
   "metadata": {
    "tags": []
   },
   "source": [
    "## 2.关于数组的更多信息\n",
    "您可能偶尔会听到一个数组被称为“ndarray”，它是“n维数组”的简写，d是单词dimension的缩写。n维数组就是具有任意维数的数组。你可能还听说过一维数组，二维数组，等等。NumPy ndarray用于表示矩阵和向量。向量是一维的数组(行向量和列向量没有区别)，而矩阵是二维的数组。对于三维或更高维度的数组，张量这个术语也常用。"
   ]
  },
  {
   "cell_type": "markdown",
   "id": "811c06a7-1a75-4292-b2b8-2f9f8671c26d",
   "metadata": {},
   "source": [
    "数组通常是固定大小的容器，包含相同类型的项。数组中的维数和项数由数组的形状定义。数组的形状是由非负整数组成的元组，指定每个维度的大小。"
   ]
  },
  {
   "cell_type": "markdown",
   "id": "43bef720-55d8-413a-91ae-66bc086cc8b8",
   "metadata": {},
   "source": [
    "在NumPy中，维度称为轴。这意味着如果你有一个像这样的2D数组:\n",
    "```python\n",
    "[[0., 0., 0.],\n",
    " [1., 1., 1.]]\n",
    "```\n",
    "数组有两个轴。第一个轴的长度是2，第二个轴的长度是3。"
   ]
  },
  {
   "cell_type": "markdown",
   "id": "9f349476-eb13-429b-9c5f-7b169d58c79c",
   "metadata": {},
   "source": [
    "## 3.如何创建一个数组"
   ]
  },
  {
   "cell_type": "code",
   "execution_count": 5,
   "id": "51138810-a559-4112-8cb2-c1860ae177a7",
   "metadata": {},
   "outputs": [
    {
     "data": {
      "text/plain": [
       "array([1, 2, 3])"
      ]
     },
     "execution_count": 5,
     "metadata": {},
     "output_type": "execute_result"
    }
   ],
   "source": [
    "import numpy as np\n",
    "np.array([1, 2, 3])"
   ]
  },
  {
   "cell_type": "markdown",
   "id": "8b65d3a9-8a0d-419f-a779-b92dc82781ec",
   "metadata": {},
   "source": [
    "用一种可视化方式来理解："
   ]
  },
  {
   "cell_type": "markdown",
   "id": "2a341143-72c4-45dd-9648-82d7cfc9dd37",
   "metadata": {},
   "source": [
    "![ndarray](图片/np_array.png)"
   ]
  },
  {
   "cell_type": "markdown",
   "id": "ec09c64c-7d37-40db-afba-38e6098cd2aa",
   "metadata": {},
   "source": [
    "请注意，这些可视化是为了简化概念，并让您对NumPy概念和机制有一个基本的理解。"
   ]
  },
  {
   "cell_type": "markdown",
   "id": "a1bcd8b4-3934-4938-ad4b-6bd04d13a97e",
   "metadata": {},
   "source": [
    "除了指定每个元素来创建数组之外，你还可以轻松创建一个由0填充的数组:"
   ]
  },
  {
   "cell_type": "code",
   "execution_count": 7,
   "id": "3d3ae6d0-f0b4-4f0a-8aae-9d9388e86570",
   "metadata": {},
   "outputs": [
    {
     "data": {
      "text/plain": [
       "array([0., 0.])"
      ]
     },
     "execution_count": 7,
     "metadata": {},
     "output_type": "execute_result"
    }
   ],
   "source": [
    "np.zeros(3)"
   ]
  },
  {
   "cell_type": "markdown",
   "id": "ca90b2d2-5bc9-41de-8c9f-0e79df260381",
   "metadata": {},
   "source": [
    "或者由1填充的数组："
   ]
  },
  {
   "cell_type": "code",
   "execution_count": 8,
   "id": "9e3c16a8-170c-44ab-9bd2-519b8a91bc3f",
   "metadata": {},
   "outputs": [
    {
     "data": {
      "text/plain": [
       "array([1., 1.])"
      ]
     },
     "execution_count": 8,
     "metadata": {},
     "output_type": "execute_result"
    }
   ],
   "source": [
    "np.ones(3)"
   ]
  },
  {
   "cell_type": "markdown",
   "id": "9dcc7f2a-c30c-4f58-a3b6-c6405a98e0fa",
   "metadata": {},
   "source": [
    "创建一组随机数:"
   ]
  },
  {
   "cell_type": "code",
   "execution_count": 38,
   "id": "d1414d6c-f775-4156-9b58-1b1a1725cef8",
   "metadata": {},
   "outputs": [
    {
     "data": {
      "text/plain": [
       "array([0.49126729, 0.10182265, 0.29090723])"
      ]
     },
     "execution_count": 38,
     "metadata": {},
     "output_type": "execute_result"
    }
   ],
   "source": [
    "np.random.random(3)"
   ]
  },
  {
   "cell_type": "markdown",
   "id": "7f8e0bfa-1f26-4a09-adce-36d0206c13ea",
   "metadata": {},
   "source": [
    "![np_ones_zeros_random](图片/np_ones_zeros_random.png)"
   ]
  },
  {
   "cell_type": "markdown",
   "id": "6d8f5092-dd3a-4434-aa24-c46a79699e90",
   "metadata": {},
   "source": [
    "包含指定范围的数组："
   ]
  },
  {
   "cell_type": "code",
   "execution_count": 9,
   "id": "b5b699dc-26d0-462d-beef-7bee67618d72",
   "metadata": {},
   "outputs": [
    {
     "data": {
      "text/plain": [
       "array([0, 1, 2, 3])"
      ]
     },
     "execution_count": 9,
     "metadata": {},
     "output_type": "execute_result"
    }
   ],
   "source": [
    "np.arange(4)"
   ]
  },
  {
   "cell_type": "markdown",
   "id": "414ded9e-bddf-4db6-af9c-4675b261934e",
   "metadata": {},
   "source": [
    "甚至包含等距间隔的数组。为此，您需要指定第一个数字、最后一个数字和步长。下面这个例子，就是从2开始，到9结束，间隔为2。"
   ]
  },
  {
   "cell_type": "code",
   "execution_count": 10,
   "id": "bdb8b196-db63-4bbc-be8f-b69c5e1c95ac",
   "metadata": {},
   "outputs": [
    {
     "data": {
      "text/plain": [
       "array([2, 4, 6, 8])"
      ]
     },
     "execution_count": 10,
     "metadata": {},
     "output_type": "execute_result"
    }
   ],
   "source": [
    "np.arange(2, 9, 2)"
   ]
  },
  {
   "cell_type": "markdown",
   "id": "a9d93032-a1aa-46c4-906b-e1b7c30fe1f7",
   "metadata": {},
   "source": [
    "你也可以使用np.linspace()来创建一个数组，该数组的值按指定的间隔线性排列:"
   ]
  },
  {
   "cell_type": "code",
   "execution_count": 8,
   "id": "848a7558-6f93-4e1a-b573-e7748dbd2a27",
   "metadata": {},
   "outputs": [
    {
     "data": {
      "text/plain": [
       "array([ 0. ,  2.5,  5. ,  7.5, 10. ])"
      ]
     },
     "execution_count": 8,
     "metadata": {},
     "output_type": "execute_result"
    }
   ],
   "source": [
    "np.linspace(0, 10, num=5)"
   ]
  },
  {
   "cell_type": "markdown",
   "id": "94f2d830-9be7-436b-ad94-8af91a7961c4",
   "metadata": {},
   "source": [
    "## 4.指定你的数据类型"
   ]
  },
  {
   "cell_type": "markdown",
   "id": "a745f454-59f5-4e3d-afd6-93dd1e09748f",
   "metadata": {},
   "source": [
    "创建数组的时候，可以指定其中元素的类型，使用参数dtype。dtype可以等于np.int64, np.float64, np.str等等。"
   ]
  },
  {
   "cell_type": "markdown",
   "id": "071b1867-0941-4f3a-98dc-69a05db281e1",
   "metadata": {},
   "source": [
    "虽然默认的数据类型是浮点数(np.float64)，但您可以使用dtype关键字显式指定想要的数据类型。"
   ]
  },
  {
   "cell_type": "code",
   "execution_count": 32,
   "id": "3c4309bf-4f7e-4a89-b68b-f139fe3ccddf",
   "metadata": {},
   "outputs": [
    {
     "data": {
      "text/plain": [
       "array([1., 2., 3., 4., 5., 6.])"
      ]
     },
     "execution_count": 32,
     "metadata": {},
     "output_type": "execute_result"
    }
   ],
   "source": [
    "a = np.array([1, 2, 3, 4, 5, 6], dtype=np.float64)\n",
    "a"
   ]
  },
  {
   "cell_type": "markdown",
   "id": "96ef206f-cf0d-48e6-9934-8ef752945bcb",
   "metadata": {},
   "source": [
    "现在尝试去索引第一个元素，也就是寻找第一个位置存储的元素。使用数组变量名和一对方括号[]，其中是一个从0开始到数组长度-1的整数"
   ]
  },
  {
   "cell_type": "code",
   "execution_count": 33,
   "id": "8a4127a3-1bde-4c38-abf0-b15df66e6972",
   "metadata": {},
   "outputs": [
    {
     "data": {
      "text/plain": [
       "1.0"
      ]
     },
     "execution_count": 33,
     "metadata": {},
     "output_type": "execute_result"
    }
   ],
   "source": [
    "a[0]"
   ]
  },
  {
   "cell_type": "markdown",
   "id": "33aa1ed1-cde5-4c15-a2ff-d90f67048dab",
   "metadata": {},
   "source": [
    "这个数组的长度是6，它包含6个元素。如果使用`a[6]`去查找（索引）第六个元素，会怎样？猜一猜"
   ]
  },
  {
   "cell_type": "code",
   "execution_count": 34,
   "id": "42cc5f0b-04bf-46b8-b8c8-2dcdcb28330e",
   "metadata": {},
   "outputs": [
    {
     "ename": "IndexError",
     "evalue": "index 6 is out of bounds for axis 0 with size 6",
     "output_type": "error",
     "traceback": [
      "\u001b[0;31m---------------------------------------------------------------------------\u001b[0m",
      "\u001b[0;31mIndexError\u001b[0m                                Traceback (most recent call last)",
      "\u001b[0;32m<ipython-input-34-84c1e027215d>\u001b[0m in \u001b[0;36m<module>\u001b[0;34m\u001b[0m\n\u001b[0;32m----> 1\u001b[0;31m \u001b[0ma\u001b[0m\u001b[0;34m[\u001b[0m\u001b[0;36m6\u001b[0m\u001b[0;34m]\u001b[0m\u001b[0;34m\u001b[0m\u001b[0;34m\u001b[0m\u001b[0m\n\u001b[0m",
      "\u001b[0;31mIndexError\u001b[0m: index 6 is out of bounds for axis 0 with size 6"
     ]
    }
   ],
   "source": [
    "a[6]"
   ]
  },
  {
   "cell_type": "code",
   "execution_count": 35,
   "id": "7b27c9a4-f60b-4f42-ab9d-7b3b65e466d0",
   "metadata": {},
   "outputs": [
    {
     "data": {
      "text/plain": [
       "(1.0, 2.0, 3.0, 4.0, 5.0, 6.0)"
      ]
     },
     "execution_count": 35,
     "metadata": {},
     "output_type": "execute_result"
    }
   ],
   "source": [
    "a[0], a[1], a[2], a[3], a[4], a[5] "
   ]
  },
  {
   "cell_type": "markdown",
   "id": "9bdd8e53-d963-40b0-8095-d9222ce8e6a7",
   "metadata": {},
   "source": [
    "### 练习"
   ]
  },
  {
   "cell_type": "markdown",
   "id": "53bd45f4-8b6b-451e-a852-f22dad98fa5f",
   "metadata": {},
   "source": [
    "试试使用之前已经掌握的for循环来依次取出各个元素："
   ]
  },
  {
   "cell_type": "markdown",
   "id": "9c0971ab-97e2-4720-b747-186069993f55",
   "metadata": {},
   "source": [
    "## 5.数组的形状和尺寸"
   ]
  },
  {
   "cell_type": "markdown",
   "id": "21b25b1d-d3f5-49c7-9aa7-0f0a2f79f978",
   "metadata": {},
   "source": [
    "`ndarray.ndim` 会告诉你数组的轴数，或者说是维度。\n",
    "\n",
    "`ndarray.size` 会告诉你数组元素的总数。这是数组的形状元素的乘积。\n",
    "\n",
    "`ndarray.shape` 将显示一个整数元组，该元组指示数组每个维度上存储的元素数量。例如，如果你有一个2行3列的2d数组，数组的形状是(2,3)。"
   ]
  },
  {
   "cell_type": "code",
   "execution_count": 16,
   "id": "3ed35d27-a770-49ed-ae95-87310abd78f5",
   "metadata": {},
   "outputs": [],
   "source": [
    "array_example = np.array([[[0, 1, 2, 3],\n",
    "                           [4, 5, 6, 7]],\n",
    "\n",
    "                          [[0, 1, 2, 3],\n",
    "                           [4, 5, 6, 7]],\n",
    "\n",
    "                          [[0 ,1 ,2, 3],\n",
    "                           [4, 5, 6, 7]]])"
   ]
  },
  {
   "cell_type": "code",
   "execution_count": 17,
   "id": "f35cf8c7-314f-4a34-be54-16e60fabcb45",
   "metadata": {},
   "outputs": [
    {
     "data": {
      "text/plain": [
       "3"
      ]
     },
     "execution_count": 17,
     "metadata": {},
     "output_type": "execute_result"
    }
   ],
   "source": [
    "array_example.ndim"
   ]
  },
  {
   "cell_type": "code",
   "execution_count": 18,
   "id": "95f78872-b00f-4b4b-8bef-b35ec656e361",
   "metadata": {},
   "outputs": [
    {
     "data": {
      "text/plain": [
       "24"
      ]
     },
     "execution_count": 18,
     "metadata": {},
     "output_type": "execute_result"
    }
   ],
   "source": [
    "array_example.size"
   ]
  },
  {
   "cell_type": "code",
   "execution_count": 19,
   "id": "9cb5ce5b-a531-4ca8-9d49-aa553753c66e",
   "metadata": {},
   "outputs": [
    {
     "data": {
      "text/plain": [
       "(3, 2, 4)"
      ]
     },
     "execution_count": 19,
     "metadata": {},
     "output_type": "execute_result"
    }
   ],
   "source": [
    "array_example.shape"
   ]
  },
  {
   "cell_type": "markdown",
   "id": "71791e0b-802c-4d70-a9d9-149014dd0dc5",
   "metadata": {},
   "source": [
    "猜猜看以下数组的ndim、size、shape"
   ]
  },
  {
   "cell_type": "code",
   "execution_count": 20,
   "id": "c417f146-ce3d-44a4-8258-ee919d5f2f04",
   "metadata": {},
   "outputs": [],
   "source": [
    "array_example = np.array([[0, 1, 2, 3],\n",
    "                          [4, 5, 6, 7],\n",
    "                          [0, 1, 2, 3],\n",
    "                          [4, 5, 6, 7],\n",
    "                          [0 ,1 ,2, 3],\n",
    "                          [4, 5, 6, 7]])"
   ]
  },
  {
   "cell_type": "markdown",
   "id": "bab65276-2cf4-4640-896f-f8ee6c5e263e",
   "metadata": {},
   "source": [
    "## 6.索引和切片"
   ]
  },
  {
   "cell_type": "markdown",
   "id": "8f77aaba-5597-4b57-8752-486a3a188522",
   "metadata": {},
   "source": [
    "您可能希望获取数组的一部分或特定数组元素，以便在进一步的分析或其他操作中使用。要做到这一点，您需要对数组进行子集、切片和/或索引。"
   ]
  },
  {
   "cell_type": "markdown",
   "id": "131aaa32-433d-46d7-8925-52f40f07ef69",
   "metadata": {},
   "source": [
    "就像使用列表(lists)一样，你可以用同样的方式索引和切片，选择数组中的部分元素。"
   ]
  },
  {
   "cell_type": "markdown",
   "id": "355c084a-1063-4e13-9fe6-9d6855934da4",
   "metadata": {},
   "source": [
    "```python\n",
    ">>> data = np.array([1, 2, 3])\n",
    "\n",
    ">>> data[1]\n",
    "2\n",
    ">>> data[0:2]\n",
    "array([1, 2])\n",
    ">>> data[1:]\n",
    "array([2, 3])\n",
    ">>> data[-2:]\n",
    "array([2, 3])\n",
    "```"
   ]
  },
  {
   "cell_type": "markdown",
   "id": "30938a94-2c8c-44e7-b0ca-3eb6dbeaf802",
   "metadata": {},
   "source": [
    "下面用一种可视化的方式："
   ]
  },
  {
   "cell_type": "markdown",
   "id": "17155f0b-86f4-485d-a538-6a3e3ef23b14",
   "metadata": {},
   "source": [
    "![np_indexing.png](图片/np_indexing.png)"
   ]
  },
  {
   "cell_type": "markdown",
   "id": "3dae5580-b2fd-435d-8876-ea340e1a43e9",
   "metadata": {},
   "source": [
    "## 7.数组的操作方法"
   ]
  },
  {
   "cell_type": "markdown",
   "id": "088830bf-bd0a-43f3-b281-a56532d53ae8",
   "metadata": {},
   "source": [
    "### 排序数组元素"
   ]
  },
  {
   "cell_type": "markdown",
   "id": "d70ffc51-29da-4215-b0a2-e407035f1ab0",
   "metadata": {},
   "source": [
    "使用np.sort()对元素进行排序很简单。您可以在调用函数时指定轴、类型和顺序。"
   ]
  },
  {
   "cell_type": "code",
   "execution_count": 1,
   "id": "b2fe8d33-6598-47d5-8b06-9f92453d1b78",
   "metadata": {},
   "outputs": [],
   "source": [
    "import numpy as np\n",
    "arr = np.array([2, 1, 5, 3, 7, 4, 6, 8])"
   ]
  },
  {
   "cell_type": "markdown",
   "id": "34c661dc-b018-4eea-a0c6-e60dc5fd92b3",
   "metadata": {},
   "source": [
    "你可以按照升序进行排序:"
   ]
  },
  {
   "cell_type": "code",
   "execution_count": 2,
   "id": "c58154f3-c7a4-48aa-a5d2-bc0a4128d326",
   "metadata": {},
   "outputs": [
    {
     "data": {
      "text/plain": [
       "array([1, 2, 3, 4, 5, 6, 7, 8])"
      ]
     },
     "execution_count": 2,
     "metadata": {},
     "output_type": "execute_result"
    }
   ],
   "source": [
    "np.sort(arr)"
   ]
  },
  {
   "cell_type": "markdown",
   "id": "765fff5b-1820-40ca-8279-eb881fcaf5a2",
   "metadata": {},
   "source": [
    "除了sort(返回数组的已排序副本)，您还可以使用:\n",
    "- argsort，它是沿着指定轴进行间接排序，\n",
    "- lexsort，是对多个键的间接稳定排序，\n",
    "- searchsorted，它将在已排序的数组中查找元素\n",
    "- partition，这是一种部分排序。"
   ]
  },
  {
   "cell_type": "markdown",
   "id": "fe98adee-2827-4161-8390-459a5ae485d6",
   "metadata": {},
   "source": [
    "### 连结两个数组"
   ]
  },
  {
   "cell_type": "code",
   "execution_count": 3,
   "id": "89e5cab2-ffa6-4415-9129-a9e1a888f701",
   "metadata": {},
   "outputs": [],
   "source": [
    "a = np.array([1, 2, 3, 4])\n",
    "b = np.array([5, 6, 7, 8])"
   ]
  },
  {
   "cell_type": "markdown",
   "id": "cacba3fb-49ff-477a-810f-444cde2b5276",
   "metadata": {},
   "source": [
    "可以使用np.concatenate()将它们连接起来。"
   ]
  },
  {
   "cell_type": "code",
   "execution_count": 4,
   "id": "04f36c73-0c96-43d8-8dae-fd0eaba3f7bc",
   "metadata": {},
   "outputs": [
    {
     "data": {
      "text/plain": [
       "array([1, 2, 3, 4, 5, 6, 7, 8])"
      ]
     },
     "execution_count": 4,
     "metadata": {},
     "output_type": "execute_result"
    }
   ],
   "source": [
    "np.concatenate((a, b))"
   ]
  },
  {
   "cell_type": "markdown",
   "id": "d1f9d3a5-8b79-4e14-b756-ac1d42e356e6",
   "metadata": {},
   "source": [
    "或者是另一个方向，"
   ]
  },
  {
   "cell_type": "code",
   "execution_count": 6,
   "id": "52b99816-0a07-40a3-89fc-c6c66caa1dc3",
   "metadata": {},
   "outputs": [],
   "source": [
    "x = np.array([[1, 2], [3, 4]])\n",
    "y = np.array([[5, 6]])"
   ]
  },
  {
   "cell_type": "markdown",
   "id": "caff7831-006e-4752-a57a-f6a19b1f13f5",
   "metadata": {},
   "source": [
    "你把它们拼接在一起"
   ]
  },
  {
   "cell_type": "code",
   "execution_count": 7,
   "id": "b5224504-cb22-4445-b81a-260154b44ab1",
   "metadata": {},
   "outputs": [
    {
     "data": {
      "text/plain": [
       "array([[1, 2],\n",
       "       [3, 4],\n",
       "       [5, 6]])"
      ]
     },
     "execution_count": 7,
     "metadata": {},
     "output_type": "execute_result"
    }
   ],
   "source": [
    "np.concatenate((x, y), axis=0)"
   ]
  },
  {
   "cell_type": "markdown",
   "id": "84ea140d-0f02-4134-b802-1e20260d3862",
   "metadata": {},
   "source": [
    "### 数学运算"
   ]
  },
  {
   "cell_type": "markdown",
   "id": "78cfafd8-0bfb-4549-92a8-29e05c49e264",
   "metadata": {},
   "source": [
    "一旦创建了数组，就可以开始使用它们了。比如说，你创建了两个数组，一个叫data，一个叫ones。"
   ]
  },
  {
   "cell_type": "markdown",
   "id": "ed7eba42-4980-48aa-8cbc-30ea663c4af3",
   "metadata": {},
   "source": [
    "![np_array_dataones](图片/np_array_dataones.png)"
   ]
  },
  {
   "cell_type": "code",
   "execution_count": 10,
   "id": "03c92c55-2c5b-4f50-96c2-421dc58ae861",
   "metadata": {},
   "outputs": [
    {
     "data": {
      "text/plain": [
       "array([2, 3])"
      ]
     },
     "execution_count": 10,
     "metadata": {},
     "output_type": "execute_result"
    }
   ],
   "source": [
    "data = np.array([1, 2])\n",
    "ones = np.ones(2, dtype=int)\n",
    "data + ones"
   ]
  },
  {
   "cell_type": "markdown",
   "id": "afd27ce8-991d-409c-8559-687ea45a69ac",
   "metadata": {},
   "source": [
    "![np_data_plus_ones](图片/np_data_plus_ones.png)"
   ]
  },
  {
   "cell_type": "code",
   "execution_count": 11,
   "id": "2e6c11a9-9d1f-42ff-8b27-7079762437f4",
   "metadata": {},
   "outputs": [
    {
     "data": {
      "text/plain": [
       "array([0, 1])"
      ]
     },
     "execution_count": 11,
     "metadata": {},
     "output_type": "execute_result"
    }
   ],
   "source": [
    "data - ones"
   ]
  },
  {
   "cell_type": "code",
   "execution_count": 12,
   "id": "17fedcd0-75ce-491e-9b74-2211017e9daa",
   "metadata": {},
   "outputs": [
    {
     "data": {
      "text/plain": [
       "array([1, 4])"
      ]
     },
     "execution_count": 12,
     "metadata": {},
     "output_type": "execute_result"
    }
   ],
   "source": [
    "data * data"
   ]
  },
  {
   "cell_type": "code",
   "execution_count": 13,
   "id": "e1615882-482d-442a-a91b-29da275cb30d",
   "metadata": {},
   "outputs": [
    {
     "data": {
      "text/plain": [
       "array([1., 1.])"
      ]
     },
     "execution_count": 13,
     "metadata": {},
     "output_type": "execute_result"
    }
   ],
   "source": [
    "data / data"
   ]
  },
  {
   "cell_type": "markdown",
   "id": "ea72f709-62fa-48f7-8e35-b243b1decd25",
   "metadata": {},
   "source": [
    "![np_sub_mult_divide](图片/np_sub_mult_divide.png)"
   ]
  },
  {
   "cell_type": "markdown",
   "id": "691ca1d7-dfb6-49fb-a54b-070c755ae6b3",
   "metadata": {},
   "source": [
    "### 求和、最大值、最小值"
   ]
  },
  {
   "cell_type": "markdown",
   "id": "80cc1580-25c2-485e-9b9a-268d9f4d0328",
   "metadata": {},
   "source": [
    "如果是对数组内部的元素求和："
   ]
  },
  {
   "cell_type": "code",
   "execution_count": 15,
   "id": "70d3f8bb-cc5f-456c-ad90-5cdd057d5ce8",
   "metadata": {},
   "outputs": [
    {
     "data": {
      "text/plain": [
       "10"
      ]
     },
     "execution_count": 15,
     "metadata": {},
     "output_type": "execute_result"
    }
   ],
   "source": [
    "a = np.array([1, 2, 3, 4])\n",
    "a.sum()"
   ]
  },
  {
   "cell_type": "markdown",
   "id": "55068020-7662-4100-92a5-3f3daf406ac2",
   "metadata": {},
   "source": [
    "如果是2维数组，您需要指定轴，axis=0是按照列的方向，axis=1按照行的方向求和。"
   ]
  },
  {
   "cell_type": "code",
   "execution_count": 20,
   "id": "174061f6-4341-43b8-b4e9-28b80f808d3f",
   "metadata": {},
   "outputs": [
    {
     "data": {
      "text/plain": [
       "array([[1, 1],\n",
       "       [2, 2]])"
      ]
     },
     "execution_count": 20,
     "metadata": {},
     "output_type": "execute_result"
    }
   ],
   "source": [
    "b = np.array([[1, 1], [2, 2]])\n",
    "b"
   ]
  },
  {
   "cell_type": "code",
   "execution_count": 21,
   "id": "a2839caf-f44a-4cc1-8cb7-eaed1b3483a8",
   "metadata": {},
   "outputs": [
    {
     "data": {
      "text/plain": [
       "array([3, 3])"
      ]
     },
     "execution_count": 21,
     "metadata": {},
     "output_type": "execute_result"
    }
   ],
   "source": [
    "b.sum(axis=0)"
   ]
  },
  {
   "cell_type": "code",
   "execution_count": 22,
   "id": "fe7b92b7-9809-41c2-89bc-acdff95d5c58",
   "metadata": {},
   "outputs": [
    {
     "data": {
      "text/plain": [
       "array([2, 4])"
      ]
     },
     "execution_count": 22,
     "metadata": {},
     "output_type": "execute_result"
    }
   ],
   "source": [
    "b.sum(axis=1)"
   ]
  },
  {
   "cell_type": "markdown",
   "id": "b38144b5-f5e7-415a-bfb1-b3be3d9dc6cb",
   "metadata": {},
   "source": [
    "NumPy还执行聚合函数。除了min、max和sum之外，您还可以轻松地运行mean以得到平均值，prod以得到元素相乘的结果，std以得到标准差，等等。"
   ]
  },
  {
   "cell_type": "code",
   "execution_count": 25,
   "id": "8642e3b5-f920-4d76-a949-ff4efa209f7f",
   "metadata": {},
   "outputs": [
    {
     "data": {
      "text/plain": [
       "3"
      ]
     },
     "execution_count": 25,
     "metadata": {},
     "output_type": "execute_result"
    }
   ],
   "source": [
    "data = np.array([1, 2, 3])\n",
    "data.max()"
   ]
  },
  {
   "cell_type": "code",
   "execution_count": 26,
   "id": "68ba6953-11cb-4e27-9816-bacbf457d80b",
   "metadata": {},
   "outputs": [
    {
     "data": {
      "text/plain": [
       "1"
      ]
     },
     "execution_count": 26,
     "metadata": {},
     "output_type": "execute_result"
    }
   ],
   "source": [
    "data.min()"
   ]
  },
  {
   "cell_type": "code",
   "execution_count": 27,
   "id": "f372e37a-e820-49ec-bffb-1d52f6c249d7",
   "metadata": {},
   "outputs": [
    {
     "data": {
      "text/plain": [
       "6"
      ]
     },
     "execution_count": 27,
     "metadata": {},
     "output_type": "execute_result"
    }
   ],
   "source": [
    "data.sum()"
   ]
  },
  {
   "cell_type": "markdown",
   "id": "5b529e81-7ee5-465a-b06e-a8937847749d",
   "metadata": {},
   "source": [
    "![np_aggregation](图片/np_aggregation.png)"
   ]
  }
 ],
 "metadata": {
  "kernelspec": {
   "display_name": "Python 3",
   "language": "python",
   "name": "python3"
  },
  "language_info": {
   "codemirror_mode": {
    "name": "ipython",
    "version": 3
   },
   "file_extension": ".py",
   "mimetype": "text/x-python",
   "name": "python",
   "nbconvert_exporter": "python",
   "pygments_lexer": "ipython3",
   "version": "3.8.5"
  }
 },
 "nbformat": 4,
 "nbformat_minor": 5
}
