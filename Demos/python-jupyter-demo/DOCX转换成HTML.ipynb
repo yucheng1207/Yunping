{
 "cells": [
  {
   "cell_type": "code",
   "execution_count": 1,
   "id": "2b41df4a",
   "metadata": {},
   "outputs": [
    {
     "name": "stdout",
     "output_type": "stream",
     "text": [
      "Requirement already satisfied: pydocx in /Users/apple/opt/anaconda3/lib/python3.8/site-packages (0.9.10)\n",
      "Requirement already satisfied: html2text in /Users/apple/opt/anaconda3/lib/python3.8/site-packages (2020.1.16)\n"
     ]
    }
   ],
   "source": [
    "!pip install pydocx\n",
    "!pip install html2text"
   ]
  },
  {
   "cell_type": "code",
   "execution_count": 2,
   "id": "6d4a5dbf",
   "metadata": {},
   "outputs": [],
   "source": [
    "from pydocx import PyDocX\n",
    "import html2text as ht\n",
    "docxPath = '/Users/apple/Downloads/用户使用协议-20211111.docx'\n",
    "htmlPath = 'output/docx2html.html'\n",
    "mdPath = 'output/html2md.md'\n",
    "html = PyDocX.to_html(docxPath)\n",
    "f = open(htmlPath, 'w', encoding='utf-8')\n",
    "f.write(html)\n",
    "f.close()\n",
    "\n",
    "text_maker = ht.HTML2Text()\n",
    "text_maker.bypass_tables = False\n",
    "htmlfile = open(htmlPath, 'r', encoding='UTF-8')\n",
    "htmlpage = htmlfile.read()\n",
    "text = text_maker.handle(htmlpage)\n",
    "\n",
    "mds = text.split('#')\n",
    "for index,md in enumerate(mds):\n",
    "    if index == 0:\n",
    "        open(mdPath, \"w\").write(md)\n",
    "    else:\n",
    "        open(mdPath, \"a+\").write(md)"
   ]
  },
  {
   "cell_type": "code",
   "execution_count": null,
   "id": "54c836fa",
   "metadata": {},
   "outputs": [],
   "source": []
  }
 ],
 "metadata": {
  "kernelspec": {
   "display_name": "Python 3",
   "language": "python",
   "name": "python3"
  },
  "language_info": {
   "codemirror_mode": {
    "name": "ipython",
    "version": 3
   },
   "file_extension": ".py",
   "mimetype": "text/x-python",
   "name": "python",
   "nbconvert_exporter": "python",
   "pygments_lexer": "ipython3",
   "version": "3.8.8"
  }
 },
 "nbformat": 4,
 "nbformat_minor": 5
}
